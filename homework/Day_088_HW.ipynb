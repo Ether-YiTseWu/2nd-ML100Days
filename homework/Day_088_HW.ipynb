{
 "cells": [
  {
   "cell_type": "markdown",
   "metadata": {},
   "source": [
    "## Work\n",
    "1. 請嘗試寫一個 callback 用來記錄各類別在訓練過程中，對驗證集的 True Positive 與 True Negative"
   ]
  },
  {
   "cell_type": "code",
   "execution_count": 9,
   "metadata": {},
   "outputs": [],
   "source": [
    "import os\n",
    "import keras\n",
    "\n",
    "# Disable GPU\n",
    "os.environ[\"CUDA_VISIBLE_DEVICES\"] = \"None\""
   ]
  },
  {
   "cell_type": "code",
   "execution_count": 10,
   "metadata": {},
   "outputs": [],
   "source": [
    "train, test = keras.datasets.cifar10.load_data()"
   ]
  },
  {
   "cell_type": "code",
   "execution_count": 11,
   "metadata": {},
   "outputs": [],
   "source": [
    "## 資料前處理\n",
    "def preproc_x(x, flatten=True):\n",
    "    x = x / 255.\n",
    "    if flatten:\n",
    "        x = x.reshape((len(x), -1))\n",
    "    return x\n",
    "\n",
    "def preproc_y(y, num_classes=10):\n",
    "    if y.shape[-1] == 1:\n",
    "        y = keras.utils.to_categorical(y, num_classes)\n",
    "    return y    "
   ]
  },
  {
   "cell_type": "code",
   "execution_count": 12,
   "metadata": {},
   "outputs": [],
   "source": [
    "x_train, y_train = train\n",
    "x_test, y_test = test\n",
    "\n",
    "# Preproc the inputs\n",
    "x_train = preproc_x(x_train)\n",
    "x_test = preproc_x(x_test)\n",
    "\n",
    "# Preprc the outputs\n",
    "y_train = preproc_y(y_train)\n",
    "y_test = preproc_y(y_test)"
   ]
  },
  {
   "cell_type": "code",
   "execution_count": 13,
   "metadata": {},
   "outputs": [],
   "source": [
    "from keras.layers import BatchNormalization\n",
    "\n",
    "def build_mlp(input_shape, output_units=10, num_neurons=[256, 256, 256]):\n",
    "    \"\"\"Code Here\n",
    "    建立你的神經網路\n",
    "    \"\"\"\n",
    "    input_layer = keras.layers.Input(input_shape)\n",
    "    \n",
    "    for i, n_units in enumerate(num_neurons):\n",
    "        if i == 0:\n",
    "            x = keras.layers.Dense(units=n_units, \n",
    "                                   activation=\"relu\", \n",
    "                                   name=\"hidden_layer\"+str(i+1))(input_layer)\n",
    "            x = BatchNormalization()(x)\n",
    "        else:\n",
    "            x = keras.layers.Dense(units=n_units, \n",
    "                                   activation=\"relu\", \n",
    "                                   name=\"hidden_layer\"+str(i+1))(x)\n",
    "            x = BatchNormalization()(x)\n",
    "    \n",
    "    out = keras.layers.Dense(units=output_units, activation=\"softmax\", name=\"output\")(x)\n",
    "    \n",
    "    model = keras.models.Model(inputs=[input_layer], outputs=[out])\n",
    "    return model"
   ]
  },
  {
   "cell_type": "code",
   "execution_count": 14,
   "metadata": {},
   "outputs": [],
   "source": [
    "## 超參數設定\n",
    "LEARNING_RATE = 1e-3\n",
    "EPOCHS = 25\n",
    "BATCH_SIZE = 1024\n",
    "MOMENTUM = 0.95"
   ]
  },
  {
   "cell_type": "code",
   "execution_count": 22,
   "metadata": {},
   "outputs": [],
   "source": [
    "# 載入 Callbacks\n",
    "from keras.callbacks import Callback\n",
    "import numpy as np\n",
    "\n",
    "# Record_fp_tp\n",
    "class Record_tp_tn(Callback):\n",
    "    \"\"\"Code Here\n",
    "    撰寫一個紀錄 ture positive 與 true negative 數量的 callbacks    \n",
    "    \"\"\"\n",
    "    def on_train_begin(self, epoch, logs = {}):\n",
    "        logs = logs or {}\n",
    "        record_items = [\"val_tp\", \"val_tn\"]\n",
    "        for i in record_items:\n",
    "            if i not in self.params['metrics']:\n",
    "                self.params['metrics'].append(i)\n",
    "    \n",
    "    def on_epoch_end(self, epoch, logs = {}, thres=0.5):\n",
    "        logs = logs or {}\n",
    "        y_true = self.validation_data[1].argmax(axis = 1)\n",
    "        y_pred = self.model.predict(self.validation_data[0])\n",
    "        y_pred = (y_pred[:, 1] >= thres) * 1\n",
    "        \n",
    "        logs[\"val_tp\"] = np.sum(np.logical_and(y_true == 1, y_pred == 1))\n",
    "        logs[\"val_tn\"] = np.sum(np.logical_and(y_true == 0, y_pred == 0))\n",
    "        \n",
    "rec_tptn = Record_tp_tn()"
   ]
  },
  {
   "cell_type": "code",
   "execution_count": 23,
   "metadata": {
    "scrolled": true
   },
   "outputs": [
    {
     "name": "stdout",
     "output_type": "stream",
     "text": [
      "_________________________________________________________________\n",
      "Layer (type)                 Output Shape              Param #   \n",
      "=================================================================\n",
      "input_4 (InputLayer)         (None, 3072)              0         \n",
      "_________________________________________________________________\n",
      "hidden_layer1 (Dense)        (None, 256)               786688    \n",
      "_________________________________________________________________\n",
      "batch_normalization_10 (Batc (None, 256)               1024      \n",
      "_________________________________________________________________\n",
      "hidden_layer2 (Dense)        (None, 256)               65792     \n",
      "_________________________________________________________________\n",
      "batch_normalization_11 (Batc (None, 256)               1024      \n",
      "_________________________________________________________________\n",
      "hidden_layer3 (Dense)        (None, 256)               65792     \n",
      "_________________________________________________________________\n",
      "batch_normalization_12 (Batc (None, 256)               1024      \n",
      "_________________________________________________________________\n",
      "output (Dense)               (None, 10)                2570      \n",
      "=================================================================\n",
      "Total params: 923,914\n",
      "Trainable params: 922,378\n",
      "Non-trainable params: 1,536\n",
      "_________________________________________________________________\n",
      "Train on 50000 samples, validate on 10000 samples\n",
      "Epoch 1/25\n",
      "50000/50000 [==============================] - 5s 99us/step - loss: 2.2057 - acc: 0.2677 - val_loss: 2.1226 - val_acc: 0.3057\n",
      "Epoch 2/25\n",
      "50000/50000 [==============================] - 4s 80us/step - loss: 1.7620 - acc: 0.3858 - val_loss: 1.7811 - val_acc: 0.3872\n",
      "Epoch 3/25\n",
      "50000/50000 [==============================] - 4s 76us/step - loss: 1.6344 - acc: 0.4305 - val_loss: 1.7060 - val_acc: 0.4041\n",
      "Epoch 4/25\n",
      "50000/50000 [==============================] - 4s 73us/step - loss: 1.5616 - acc: 0.4537 - val_loss: 1.6256 - val_acc: 0.4333\n",
      "Epoch 5/25\n",
      "50000/50000 [==============================] - 4s 73us/step - loss: 1.5111 - acc: 0.4727 - val_loss: 1.6058 - val_acc: 0.4363\n",
      "Epoch 6/25\n",
      "50000/50000 [==============================] - 4s 74us/step - loss: 1.4667 - acc: 0.4881 - val_loss: 1.5704 - val_acc: 0.4448\n",
      "Epoch 7/25\n",
      "50000/50000 [==============================] - 4s 74us/step - loss: 1.4296 - acc: 0.5007 - val_loss: 1.5545 - val_acc: 0.4478\n",
      "Epoch 8/25\n",
      "50000/50000 [==============================] - 4s 74us/step - loss: 1.3968 - acc: 0.5127 - val_loss: 1.5507 - val_acc: 0.4514\n",
      "Epoch 9/25\n",
      "50000/50000 [==============================] - 4s 75us/step - loss: 1.3685 - acc: 0.5223 - val_loss: 1.5226 - val_acc: 0.4587\n",
      "Epoch 10/25\n",
      "50000/50000 [==============================] - 4s 76us/step - loss: 1.3399 - acc: 0.5314 - val_loss: 1.5118 - val_acc: 0.4649\n",
      "Epoch 11/25\n",
      "50000/50000 [==============================] - 4s 79us/step - loss: 1.3162 - acc: 0.5403 - val_loss: 1.5112 - val_acc: 0.4695\n",
      "Epoch 12/25\n",
      "50000/50000 [==============================] - 4s 75us/step - loss: 1.2912 - acc: 0.5509 - val_loss: 1.5026 - val_acc: 0.4726\n",
      "Epoch 13/25\n",
      "50000/50000 [==============================] - 4s 77us/step - loss: 1.2691 - acc: 0.5589 - val_loss: 1.4893 - val_acc: 0.4726\n",
      "Epoch 14/25\n",
      "50000/50000 [==============================] - 4s 75us/step - loss: 1.2458 - acc: 0.5663 - val_loss: 1.4825 - val_acc: 0.4771\n",
      "Epoch 15/25\n",
      "50000/50000 [==============================] - 4s 78us/step - loss: 1.2248 - acc: 0.5740 - val_loss: 1.4735 - val_acc: 0.4799\n",
      "Epoch 16/25\n",
      "50000/50000 [==============================] - 4s 77us/step - loss: 1.2057 - acc: 0.5815 - val_loss: 1.4679 - val_acc: 0.4816\n",
      "Epoch 17/25\n",
      "50000/50000 [==============================] - 4s 78us/step - loss: 1.1849 - acc: 0.5886 - val_loss: 1.4719 - val_acc: 0.4830\n",
      "Epoch 18/25\n",
      "50000/50000 [==============================] - 4s 75us/step - loss: 1.1659 - acc: 0.5955 - val_loss: 1.4622 - val_acc: 0.4826\n",
      "Epoch 19/25\n",
      "50000/50000 [==============================] - 4s 74us/step - loss: 1.1469 - acc: 0.6033 - val_loss: 1.4785 - val_acc: 0.4777\n",
      "Epoch 20/25\n",
      "50000/50000 [==============================] - 4s 73us/step - loss: 1.1289 - acc: 0.6105 - val_loss: 1.4710 - val_acc: 0.4824\n",
      "Epoch 21/25\n",
      "50000/50000 [==============================] - 4s 74us/step - loss: 1.1115 - acc: 0.6167 - val_loss: 1.4593 - val_acc: 0.4844\n",
      "Epoch 22/25\n",
      "50000/50000 [==============================] - 4s 73us/step - loss: 1.0931 - acc: 0.6243 - val_loss: 1.4622 - val_acc: 0.4858\n",
      "Epoch 23/25\n",
      "50000/50000 [==============================] - 4s 74us/step - loss: 1.0760 - acc: 0.6300 - val_loss: 1.4600 - val_acc: 0.4881\n",
      "Epoch 24/25\n",
      "50000/50000 [==============================] - 4s 74us/step - loss: 1.0588 - acc: 0.6372 - val_loss: 1.4607 - val_acc: 0.4946\n",
      "Epoch 25/25\n",
      "50000/50000 [==============================] - 4s 74us/step - loss: 1.0424 - acc: 0.6451 - val_loss: 1.4631 - val_acc: 0.4876\n"
     ]
    }
   ],
   "source": [
    "model = build_mlp(input_shape=x_train.shape[1:])\n",
    "model.summary()\n",
    "optimizer = keras.optimizers.SGD(lr=LEARNING_RATE, nesterov=True, momentum=MOMENTUM)\n",
    "model.compile(loss=\"categorical_crossentropy\", metrics=[\"accuracy\"], optimizer=optimizer)\n",
    "\n",
    "\"\"\"Code Here\n",
    "將 callbacks 放入模型訓練流程中\n",
    "\"\"\"\n",
    "model.fit(x_train, y_train, \n",
    "          epochs=EPOCHS, \n",
    "          batch_size=BATCH_SIZE, \n",
    "          validation_data=(x_test, y_test), \n",
    "          shuffle=True,\n",
    "          callbacks=[rec_tptn]\n",
    "         )\n",
    "\n",
    "# Collect results\n",
    "train_loss = model.history.history[\"loss\"]\n",
    "valid_loss = model.history.history[\"val_loss\"]\n",
    "train_acc = model.history.history[\"acc\"]\n",
    "valid_acc = model.history.history[\"val_acc\"]\n",
    "\n",
    "\"\"\"Code Here\n",
    "將 tp/tn 從訓練完的模型中取出\n",
    "\"\"\"\n",
    "valid_tp = model.history.history['val_tp']\n",
    "valid_tn = model.history.history['val_tn']"
   ]
  },
  {
   "cell_type": "code",
   "execution_count": 24,
   "metadata": {},
   "outputs": [
    {
     "data": {
      "image/png": "[encoded data removed]",
      "text/plain": [
       "<Figure size 432x288 with 1 Axes>"
      ]
     },
     "metadata": {
      "needs_background": "light"
     },
     "output_type": "display_data"
    },
    {
     "data": {
      "image/png": "[encoded data removed]",
      "text/plain": [
       "<Figure size 432x288 with 1 Axes>"
      ]
     },
     "metadata": {
      "needs_background": "light"
     },
     "output_type": "display_data"
    },
    {
     "data": {
      "image/png": "[encoded data removed]",
      "text/plain": [
       "<Figure size 432x288 with 1 Axes>"
      ]
     },
     "metadata": {
      "needs_background": "light"
     },
     "output_type": "display_data"
    }
   ],
   "source": [
    "import matplotlib.pyplot as plt\n",
    "%matplotlib inline\n",
    "\n",
    "plt.plot(range(len(train_loss)), train_loss, label=\"train loss\")\n",
    "plt.plot(range(len(valid_loss)), valid_loss, label=\"valid loss\")\n",
    "plt.legend()\n",
    "plt.title(\"Loss\")\n",
    "plt.show()\n",
    "\n",
    "plt.plot(range(len(train_acc)), train_acc, label=\"train accuracy\")\n",
    "plt.plot(range(len(valid_acc)), valid_acc, label=\"valid accuracy\")\n",
    "plt.legend()\n",
    "plt.title(\"Accuracy\")\n",
    "plt.show()\n",
    "\n",
    "plt.plot(range(len(valid_tp)), valid_tp, label=\"valid tp\", color=\"navy\")\n",
    "plt.plot(range(len(valid_tn)), valid_tn, label=\"valid tn\", color=\"red\")\n",
    "plt.legend()\n",
    "plt.title(\"True positives and True Negatives\")\n",
    "plt.show()\n"
   ]
  }
 ],
 "metadata": {
  "kernelspec": {
   "display_name": "Python 3",
   "language": "python",
   "name": "python3"
  },
  "language_info": {
   "codemirror_mode": {
    "name": "ipython",
    "version": 3
   },
   "file_extension": ".py",
   "mimetype": "text/x-python",
   "name": "python",
   "nbconvert_exporter": "python",
   "pygments_lexer": "ipython3",
   "version": "3.7.1"
  }
 },
 "nbformat": 4,
 "nbformat_minor": 2
}
