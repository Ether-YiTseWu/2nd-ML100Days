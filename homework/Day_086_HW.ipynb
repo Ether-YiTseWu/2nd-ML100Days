{
 "cells": [
  {
   "cell_type": "markdown",
   "metadata": {},
   "source": [
    "## Work\n",
    "1. 試比較 save_best_only 與否的差異\n",
    "2. 請僅存入將 save_weights_only 設定為 True, 並嘗試 reset ipynb 並將模型與權重重新建回並預測 x_test"
   ]
  },
  {
   "cell_type": "code",
   "execution_count": 1,
   "metadata": {},
   "outputs": [
    {
     "name": "stderr",
     "output_type": "stream",
     "text": [
      "Using TensorFlow backend.\n"
     ]
    }
   ],
   "source": [
    "import os\n",
    "import keras\n",
    "\n",
    "# Disable GPU\n",
    "os.environ[\"CUDA_VISIBLE_DEVICES\"] = \"None\""
   ]
  },
  {
   "cell_type": "code",
   "execution_count": 2,
   "metadata": {},
   "outputs": [],
   "source": [
    "train, test = keras.datasets.cifar10.load_data()"
   ]
  },
  {
   "cell_type": "code",
   "execution_count": 3,
   "metadata": {},
   "outputs": [],
   "source": [
    "## 資料前處理\n",
    "def preproc_x(x, flatten=True):\n",
    "    x = x / 255.\n",
    "    if flatten:\n",
    "        x = x.reshape((len(x), -1))\n",
    "    return x\n",
    "\n",
    "def preproc_y(y, num_classes=10):\n",
    "    if y.shape[-1] == 1:\n",
    "        y = keras.utils.to_categorical(y, num_classes)\n",
    "    return y    "
   ]
  },
  {
   "cell_type": "code",
   "execution_count": 4,
   "metadata": {},
   "outputs": [],
   "source": [
    "x_train, y_train = train\n",
    "x_test, y_test = test\n",
    "\n",
    "# Preproc the inputs\n",
    "x_train = preproc_x(x_train)\n",
    "x_test = preproc_x(x_test)\n",
    "\n",
    "# Preprc the outputs\n",
    "y_train = preproc_y(y_train)\n",
    "y_test = preproc_y(y_test)"
   ]
  },
  {
   "cell_type": "code",
   "execution_count": 5,
   "metadata": {},
   "outputs": [],
   "source": [
    "from keras.layers import BatchNormalization\n",
    "def build_mlp(input_shape, output_units=10, num_neurons=[512, 256, 128]):\n",
    "    \"\"\"Code Here\n",
    "    建立你的神經網路\n",
    "    \"\"\"\n",
    "    input_layer = keras.layers.Input(input_shape)\n",
    "    \n",
    "    for i, n_units in enumerate(num_neurons):\n",
    "        if i == 0:\n",
    "            x = keras.layers.Dense(units=n_units, \n",
    "                                   activation=\"relu\", \n",
    "                                   name=\"hidden_layer\"+str(i+1))(input_layer)\n",
    "            x = BatchNormalization()(x)\n",
    "        else:\n",
    "            x = keras.layers.Dense(units=n_units, \n",
    "                                   activation=\"relu\", \n",
    "                                   name=\"hidden_layer\"+str(i+1))(x)\n",
    "            x = BatchNormalization()(x)\n",
    "    \n",
    "    out = keras.layers.Dense(units=output_units, activation=\"softmax\", name=\"output\")(x)\n",
    "    \n",
    "    model = keras.models.Model(inputs=[input_layer], outputs=[out])\n",
    "    return model\n",
    "    return model"
   ]
  },
  {
   "cell_type": "code",
   "execution_count": 6,
   "metadata": {},
   "outputs": [],
   "source": [
    "\"\"\"Code Here\n",
    "設定超參數\n",
    "\"\"\"\n",
    "LEARNING_RATE = 1e-3\n",
    "EPOCHS = 50\n",
    "BATCH_SIZE = 1024\n",
    "MOMENTUM = 0.95"
   ]
  },
  {
   "cell_type": "markdown",
   "metadata": {},
   "source": [
    "## 取消save_best_only"
   ]
  },
  {
   "cell_type": "code",
   "execution_count": 8,
   "metadata": {},
   "outputs": [
    {
     "name": "stderr",
     "output_type": "stream",
     "text": [
      "WARNING: Logging before flag parsing goes to stderr.\n",
      "W0723 10:39:11.974397 20604 deprecation_wrapper.py:119] From F:\\Anaconda\\lib\\site-packages\\keras\\backend\\tensorflow_backend.py:74: The name tf.get_default_graph is deprecated. Please use tf.compat.v1.get_default_graph instead.\n",
      "\n",
      "W0723 10:39:12.003403 20604 deprecation_wrapper.py:119] From F:\\Anaconda\\lib\\site-packages\\keras\\backend\\tensorflow_backend.py:517: The name tf.placeholder is deprecated. Please use tf.compat.v1.placeholder instead.\n",
      "\n",
      "W0723 10:39:12.011414 20604 deprecation_wrapper.py:119] From F:\\Anaconda\\lib\\site-packages\\keras\\backend\\tensorflow_backend.py:4138: The name tf.random_uniform is deprecated. Please use tf.random.uniform instead.\n",
      "\n",
      "W0723 10:39:12.091423 20604 deprecation_wrapper.py:119] From F:\\Anaconda\\lib\\site-packages\\keras\\backend\\tensorflow_backend.py:133: The name tf.placeholder_with_default is deprecated. Please use tf.compat.v1.placeholder_with_default instead.\n",
      "\n",
      "W0723 10:39:12.327476 20604 deprecation_wrapper.py:119] From F:\\Anaconda\\lib\\site-packages\\keras\\optimizers.py:790: The name tf.train.Optimizer is deprecated. Please use tf.compat.v1.train.Optimizer instead.\n",
      "\n",
      "W0723 10:39:12.333487 20604 deprecation_wrapper.py:119] From F:\\Anaconda\\lib\\site-packages\\keras\\backend\\tensorflow_backend.py:3295: The name tf.log is deprecated. Please use tf.math.log instead.\n",
      "\n",
      "W0723 10:39:12.415505 20604 deprecation.py:323] From C:\\Users\\Administrator\\AppData\\Roaming\\Python\\Python37\\site-packages\\tensorflow\\python\\ops\\math_grad.py:1250: add_dispatch_support.<locals>.wrapper (from tensorflow.python.ops.array_ops) is deprecated and will be removed in a future version.\n",
      "Instructions for updating:\n",
      "Use tf.where in 2.0, which has the same broadcast rule as np.where\n"
     ]
    },
    {
     "name": "stdout",
     "output_type": "stream",
     "text": [
      "_________________________________________________________________\n",
      "Layer (type)                 Output Shape              Param #   \n",
      "=================================================================\n",
      "input_1 (InputLayer)         (None, 3072)              0         \n",
      "_________________________________________________________________\n",
      "hidden_layer1 (Dense)        (None, 512)               1573376   \n",
      "_________________________________________________________________\n",
      "batch_normalization_1 (Batch (None, 512)               2048      \n",
      "_________________________________________________________________\n",
      "hidden_layer2 (Dense)        (None, 256)               131328    \n",
      "_________________________________________________________________\n",
      "batch_normalization_2 (Batch (None, 256)               1024      \n",
      "_________________________________________________________________\n",
      "hidden_layer3 (Dense)        (None, 128)               32896     \n",
      "_________________________________________________________________\n",
      "batch_normalization_3 (Batch (None, 128)               512       \n",
      "_________________________________________________________________\n",
      "output (Dense)               (None, 10)                1290      \n",
      "=================================================================\n",
      "Total params: 1,742,474\n",
      "Trainable params: 1,740,682\n",
      "Non-trainable params: 1,792\n",
      "_________________________________________________________________\n",
      "Train on 50000 samples, validate on 10000 samples\n",
      "Epoch 1/50\n",
      "50000/50000 [==============================] - 6s 114us/step - loss: 2.2190 - acc: 0.2666 - val_loss: 2.0373 - val_acc: 0.3379\n",
      "Epoch 2/50\n",
      "50000/50000 [==============================] - 5s 97us/step - loss: 1.7440 - acc: 0.3898 - val_loss: 1.7923 - val_acc: 0.3884\n",
      "Epoch 3/50\n",
      "50000/50000 [==============================] - 5s 95us/step - loss: 1.6200 - acc: 0.4335 - val_loss: 1.6612 - val_acc: 0.4175\n",
      "Epoch 4/50\n",
      "50000/50000 [==============================] - 5s 96us/step - loss: 1.5466 - acc: 0.4601 - val_loss: 1.6166 - val_acc: 0.4334\n",
      "Epoch 5/50\n",
      "50000/50000 [==============================] - 5s 93us/step - loss: 1.4930 - acc: 0.4785 - val_loss: 1.5732 - val_acc: 0.4473\n",
      "Epoch 6/50\n",
      "50000/50000 [==============================] - 5s 92us/step - loss: 1.4462 - acc: 0.4943 - val_loss: 1.5673 - val_acc: 0.4481\n",
      "Epoch 7/50\n",
      "50000/50000 [==============================] - 5s 95us/step - loss: 1.4060 - acc: 0.5078 - val_loss: 1.5384 - val_acc: 0.4617\n",
      "Epoch 8/50\n",
      "50000/50000 [==============================] - 5s 96us/step - loss: 1.3715 - acc: 0.5216 - val_loss: 1.5211 - val_acc: 0.4722\n",
      "Epoch 9/50\n",
      "50000/50000 [==============================] - 5s 103us/step - loss: 1.3379 - acc: 0.5336 - val_loss: 1.5098 - val_acc: 0.4725\n",
      "Epoch 10/50\n",
      "50000/50000 [==============================] - 5s 95us/step - loss: 1.3089 - acc: 0.5447 - val_loss: 1.4855 - val_acc: 0.4823\n",
      "Epoch 11/50\n",
      "50000/50000 [==============================] - 5s 93us/step - loss: 1.2798 - acc: 0.5547 - val_loss: 1.4928 - val_acc: 0.4751\n",
      "Epoch 12/50\n",
      "50000/50000 [==============================] - 5s 93us/step - loss: 1.2537 - acc: 0.5658 - val_loss: 1.4793 - val_acc: 0.4808\n",
      "Epoch 13/50\n",
      "50000/50000 [==============================] - 5s 93us/step - loss: 1.2270 - acc: 0.5746 - val_loss: 1.4720 - val_acc: 0.4848\n",
      "Epoch 14/50\n",
      "50000/50000 [==============================] - 5s 93us/step - loss: 1.2021 - acc: 0.5844 - val_loss: 1.4680 - val_acc: 0.4872\n",
      "Epoch 15/50\n",
      "50000/50000 [==============================] - 5s 93us/step - loss: 1.1771 - acc: 0.5927 - val_loss: 1.4724 - val_acc: 0.4846\n",
      "Epoch 16/50\n",
      "50000/50000 [==============================] - 5s 93us/step - loss: 1.1542 - acc: 0.6020 - val_loss: 1.4609 - val_acc: 0.4898\n",
      "Epoch 17/50\n",
      "50000/50000 [==============================] - 5s 93us/step - loss: 1.1306 - acc: 0.6101 - val_loss: 1.4494 - val_acc: 0.4935\n",
      "Epoch 18/50\n",
      "50000/50000 [==============================] - 5s 94us/step - loss: 1.1063 - acc: 0.6194 - val_loss: 1.4589 - val_acc: 0.4906\n",
      "Epoch 19/50\n",
      "50000/50000 [==============================] - 5s 93us/step - loss: 1.0849 - acc: 0.6283 - val_loss: 1.4566 - val_acc: 0.4936\n",
      "Epoch 20/50\n",
      "50000/50000 [==============================] - 5s 93us/step - loss: 1.0622 - acc: 0.6374 - val_loss: 1.4500 - val_acc: 0.4953\n",
      "Epoch 21/50\n",
      "50000/50000 [==============================] - 5s 93us/step - loss: 1.0406 - acc: 0.6452 - val_loss: 1.4605 - val_acc: 0.4918\n",
      "Epoch 22/50\n",
      "50000/50000 [==============================] - 5s 93us/step - loss: 1.0202 - acc: 0.6538 - val_loss: 1.4591 - val_acc: 0.4914\n",
      "Epoch 23/50\n",
      "50000/50000 [==============================] - 5s 94us/step - loss: 1.0000 - acc: 0.6607 - val_loss: 1.4622 - val_acc: 0.4945\n",
      "Epoch 24/50\n",
      "50000/50000 [==============================] - 5s 93us/step - loss: 0.9783 - acc: 0.6708 - val_loss: 1.4609 - val_acc: 0.4993\n",
      "Epoch 25/50\n",
      "50000/50000 [==============================] - 5s 93us/step - loss: 0.9577 - acc: 0.6774 - val_loss: 1.4615 - val_acc: 0.4950\n",
      "Epoch 26/50\n",
      "50000/50000 [==============================] - 5s 93us/step - loss: 0.9367 - acc: 0.6859 - val_loss: 1.4731 - val_acc: 0.4958\n",
      "Epoch 27/50\n",
      "50000/50000 [==============================] - 5s 93us/step - loss: 0.9168 - acc: 0.6930 - val_loss: 1.4652 - val_acc: 0.4970\n",
      "Epoch 28/50\n",
      "50000/50000 [==============================] - 5s 93us/step - loss: 0.8941 - acc: 0.7037 - val_loss: 1.4635 - val_acc: 0.4982\n",
      "Epoch 29/50\n",
      "50000/50000 [==============================] - 5s 93us/step - loss: 0.8722 - acc: 0.7105 - val_loss: 1.4730 - val_acc: 0.4978\n",
      "Epoch 30/50\n",
      "50000/50000 [==============================] - 5s 93us/step - loss: 0.8539 - acc: 0.7185 - val_loss: 1.4899 - val_acc: 0.4902\n",
      "Epoch 31/50\n",
      "50000/50000 [==============================] - 5s 93us/step - loss: 0.8343 - acc: 0.7253 - val_loss: 1.4886 - val_acc: 0.5066\n",
      "Epoch 32/50\n",
      "50000/50000 [==============================] - 5s 93us/step - loss: 0.8135 - acc: 0.7344 - val_loss: 1.5000 - val_acc: 0.4998\n",
      "Epoch 33/50\n",
      "50000/50000 [==============================] - 5s 92us/step - loss: 0.7951 - acc: 0.7410 - val_loss: 1.4936 - val_acc: 0.5003\n",
      "Epoch 34/50\n",
      "50000/50000 [==============================] - 5s 93us/step - loss: 0.7729 - acc: 0.7499 - val_loss: 1.4963 - val_acc: 0.4999\n",
      "Epoch 35/50\n",
      "50000/50000 [==============================] - 5s 94us/step - loss: 0.7561 - acc: 0.7557 - val_loss: 1.5009 - val_acc: 0.5037\n",
      "Epoch 36/50\n",
      "50000/50000 [==============================] - 5s 94us/step - loss: 0.7364 - acc: 0.7651 - val_loss: 1.5110 - val_acc: 0.5034\n",
      "Epoch 37/50\n",
      "50000/50000 [==============================] - 5s 92us/step - loss: 0.7182 - acc: 0.7714 - val_loss: 1.5302 - val_acc: 0.4981\n",
      "Epoch 38/50\n",
      "50000/50000 [==============================] - 5s 94us/step - loss: 0.6954 - acc: 0.7798 - val_loss: 1.5481 - val_acc: 0.4940\n",
      "Epoch 39/50\n",
      "50000/50000 [==============================] - 5s 94us/step - loss: 0.6783 - acc: 0.7880 - val_loss: 1.5408 - val_acc: 0.4980\n",
      "Epoch 40/50\n",
      "50000/50000 [==============================] - 5s 93us/step - loss: 0.6600 - acc: 0.7947 - val_loss: 1.5750 - val_acc: 0.4953\n",
      "Epoch 41/50\n",
      "50000/50000 [==============================] - 5s 93us/step - loss: 0.6433 - acc: 0.8007 - val_loss: 1.5546 - val_acc: 0.4997\n",
      "Epoch 42/50\n",
      "50000/50000 [==============================] - 5s 92us/step - loss: 0.6220 - acc: 0.8095 - val_loss: 1.5971 - val_acc: 0.4921\n",
      "Epoch 43/50\n",
      "50000/50000 [==============================] - 5s 92us/step - loss: 0.6040 - acc: 0.8178 - val_loss: 1.5824 - val_acc: 0.4983\n",
      "Epoch 44/50\n",
      "50000/50000 [==============================] - 5s 93us/step - loss: 0.5870 - acc: 0.8238 - val_loss: 1.6093 - val_acc: 0.4935\n",
      "Epoch 45/50\n",
      "50000/50000 [==============================] - 5s 93us/step - loss: 0.5723 - acc: 0.8278 - val_loss: 1.6157 - val_acc: 0.4921\n",
      "Epoch 46/50\n",
      "50000/50000 [==============================] - 5s 93us/step - loss: 0.5526 - acc: 0.8370 - val_loss: 1.6269 - val_acc: 0.4966\n",
      "Epoch 47/50\n",
      "50000/50000 [==============================] - 5s 93us/step - loss: 0.5354 - acc: 0.8443 - val_loss: 1.6387 - val_acc: 0.4930\n",
      "Epoch 48/50\n",
      "50000/50000 [==============================] - 5s 93us/step - loss: 0.5199 - acc: 0.8514 - val_loss: 1.6595 - val_acc: 0.4907\n",
      "Epoch 49/50\n",
      "50000/50000 [==============================] - 5s 93us/step - loss: 0.5024 - acc: 0.8561 - val_loss: 1.6500 - val_acc: 0.4954\n"
     ]
    },
    {
     "name": "stdout",
     "output_type": "stream",
     "text": [
      "Epoch 50/50\n",
      "50000/50000 [==============================] - 5s 93us/step - loss: 0.4859 - acc: 0.8641 - val_loss: 1.6787 - val_acc: 0.4939\n",
      "10000/10000 [==============================] - 1s 76us/step\n"
     ]
    }
   ],
   "source": [
    "# 載入 Callbacks\n",
    "\"\"\"Code Here\n",
    "設定 callbacks: model checkpoint\n",
    "\"\"\"\n",
    "from keras.callbacks import ModelCheckpoint\n",
    "\n",
    "model_ckpt = ModelCheckpoint(filepath=\"./tmp.h5\", \n",
    "                             monitor=\"val_loss\", \n",
    "                             save_best_only=False)\n",
    "results = {}\n",
    "\"\"\"Code Here\n",
    "撰寫你的訓練流程並將結果用 dictionary 紀錄\n",
    "\"\"\"\n",
    "model = build_mlp(input_shape=x_train.shape[1:])\n",
    "model.summary()\n",
    "optimizer = keras.optimizers.SGD(lr=LEARNING_RATE, nesterov=True, momentum=MOMENTUM)\n",
    "model.compile(loss=\"categorical_crossentropy\", metrics=[\"accuracy\"], optimizer=optimizer)\n",
    "\n",
    "model.fit(x_train, y_train, \n",
    "          epochs=EPOCHS, \n",
    "          batch_size=BATCH_SIZE, \n",
    "          validation_data=(x_test, y_test), \n",
    "          shuffle=True,\n",
    "          callbacks=[model_ckpt]\n",
    "         )\n",
    "\n",
    "# Collect results\n",
    "train_loss = model.history.history[\"loss\"]\n",
    "valid_loss = model.history.history[\"val_loss\"]\n",
    "train_acc = model.history.history[\"acc\"]\n",
    "valid_acc = model.history.history[\"val_acc\"]\n",
    "\n",
    "# Load back\n",
    "model = keras.models.load_model(\"./tmp.h5\")\n",
    "loss_loadback, acc_loadback = model.evaluate(x_test, y_test)"
   ]
  },
  {
   "cell_type": "code",
   "execution_count": 10,
   "metadata": {
    "scrolled": true
   },
   "outputs": [
    {
     "data": {
      "image/png": "[encoded data removed]",
      "text/plain": [
       "<Figure size 432x288 with 1 Axes>"
      ]
     },
     "metadata": {
      "needs_background": "light"
     },
     "output_type": "display_data"
    },
    {
     "data": {
      "image/png": "[encoded data removed]",
      "text/plain": [
       "<Figure size 432x288 with 1 Axes>"
      ]
     },
     "metadata": {
      "needs_background": "light"
     },
     "output_type": "display_data"
    }
   ],
   "source": [
    "import matplotlib.pyplot as plt\n",
    "%matplotlib inline\n",
    "\"\"\"Code Here\n",
    "將結果繪出\n",
    "\"\"\"\n",
    "import matplotlib.pyplot as plt\n",
    "%matplotlib inline\n",
    "\n",
    "plt.plot(range(len(train_loss)), train_loss, label=\"train loss\")\n",
    "plt.plot(range(len(valid_loss)), valid_loss, label=\"valid loss\")\n",
    "plt.hlines(y=loss_loadback, xmin=0, xmax=len(train_loss), colors='r', linestyles='--')\n",
    "plt.legend()\n",
    "plt.title(\"Loss\")\n",
    "plt.show()\n",
    "\n",
    "plt.plot(range(len(train_acc)), train_acc, label=\"train accuracy\")\n",
    "plt.plot(range(len(valid_acc)), valid_acc, label=\"valid accuracy\")\n",
    "plt.hlines(y=acc_loadback, xmin=0, xmax=len(train_loss), colors='r', linestyles='--')\n",
    "plt.legend()\n",
    "plt.title(\"Accuracy\")\n",
    "plt.show()"
   ]
  },
  {
   "cell_type": "markdown",
   "metadata": {},
   "source": [
    "## reset ipynb 並將模型與權重重新建回"
   ]
  },
  {
   "cell_type": "code",
   "execution_count": 13,
   "metadata": {},
   "outputs": [
    {
     "name": "stdout",
     "output_type": "stream",
     "text": [
      "10000/10000 [==============================] - 1s 101us/step\n"
     ]
    }
   ],
   "source": [
    "# Load back\n",
    "model = keras.models.load_model(\"./tmp.h5\")\n",
    "loss_loadback, acc_loadback = model.evaluate(x_test, y_test)"
   ]
  },
  {
   "cell_type": "code",
   "execution_count": 14,
   "metadata": {},
   "outputs": [
    {
     "data": {
      "image/png": "[encoded data removed]",
      "text/plain": [
       "<Figure size 432x288 with 1 Axes>"
      ]
     },
     "metadata": {
      "needs_background": "light"
     },
     "output_type": "display_data"
    },
    {
     "data": {
      "image/png": "[encoded data removed]",
      "text/plain": [
       "<Figure size 432x288 with 1 Axes>"
      ]
     },
     "metadata": {
      "needs_background": "light"
     },
     "output_type": "display_data"
    }
   ],
   "source": [
    "plt.plot(range(len(valid_loss)), valid_loss, label=\"valid loss\")\n",
    "plt.hlines(y=loss_loadback, xmin=0, xmax=len(train_loss), colors='r', linestyles='--')\n",
    "plt.legend()\n",
    "plt.title(\"Loss\")\n",
    "plt.show()\n",
    "\n",
    "plt.plot(range(len(train_acc)), train_acc, label=\"train accuracy\")\n",
    "plt.plot(range(len(valid_acc)), valid_acc, label=\"valid accuracy\")\n",
    "plt.hlines(y=acc_loadback, xmin=0, xmax=len(train_loss), colors='r', linestyles='--')\n",
    "plt.legend()\n",
    "plt.title(\"Accuracy\")\n",
    "plt.show()"
   ]
  }
 ],
 "metadata": {
  "kernelspec": {
   "display_name": "Python 3",
   "language": "python",
   "name": "python3"
  },
  "language_info": {
   "codemirror_mode": {
    "name": "ipython",
    "version": 3
   },
   "file_extension": ".py",
   "mimetype": "text/x-python",
   "name": "python",
   "nbconvert_exporter": "python",
   "pygments_lexer": "ipython3",
   "version": "3.7.1"
  }
 },
 "nbformat": 4,
 "nbformat_minor": 2
}
