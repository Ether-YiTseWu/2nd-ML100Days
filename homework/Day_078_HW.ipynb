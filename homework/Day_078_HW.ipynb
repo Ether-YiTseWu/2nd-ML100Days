{
 "cells": [
  {
   "cell_type": "markdown",
   "metadata": {},
   "source": [
    "## Work\n",
    "1. 請嘗試將 preproc_x 替換成以每筆資料的 min/max 進行標準化至 -1 ~ 1 間，再進行訓練\n",
    "2. 請嘗試將 mlp 疊更深 (e.g 5~10 層)，進行訓練後觀察 learning curve 的走勢\n",
    "3. (optional) 請改用 GPU 進行訓練 (如果你有 GPU 的話)，比較使用 CPU 與 GPU 的訓練速度"
   ]
  },
  {
   "cell_type": "code",
   "execution_count": 2,
   "metadata": {},
   "outputs": [
    {
     "data": {
      "text/plain": [
       "'\\nYour code here (optional)\\n確認硬體資源\\n'"
      ]
     },
     "execution_count": 2,
     "metadata": {},
     "output_type": "execute_result"
    }
   ],
   "source": [
    "## \n",
    "\"\"\"\n",
    "Your code here (optional)\n",
    "確認硬體資源\n",
    "\"\"\"\n"
   ]
  },
  {
   "cell_type": "code",
   "execution_count": 5,
   "metadata": {},
   "outputs": [],
   "source": [
    "import os\n",
    "import keras\n",
    "\n",
    "# 請嘗試設定 GPU：os.environ\n",
    "os.environ[\"CUDA_VISIBLE_DEVICES\"] = \"None\""
   ]
  },
  {
   "cell_type": "code",
   "execution_count": 4,
   "metadata": {},
   "outputs": [
    {
     "name": "stdout",
     "output_type": "stream",
     "text": [
      "Downloading data from https://www.cs.toronto.edu/~kriz/cifar-10-python.tar.gz\n",
      "170500096/170498071 [==============================] - 220s 1us/step\n"
     ]
    }
   ],
   "source": [
    "train, test = keras.datasets.cifar10.load_data()"
   ]
  },
  {
   "cell_type": "code",
   "execution_count": 27,
   "metadata": {},
   "outputs": [],
   "source": [
    "## 資料前處理\n",
    "\"\"\"\n",
    "Your code here\n",
    "\"\"\"\n",
    "def preproc_x(x, flatten=True):\n",
    "    x = x / 255.\n",
    "    if flatten:\n",
    "        x = x.reshape((len(x), -1))\n",
    "    return x\n",
    "\n",
    "def preproc_y(y, num_classes=10):\n",
    "    if y.shape[-1] == 1:\n",
    "        y = keras.utils.to_categorical(y, num_classes)\n",
    "    return y"
   ]
  },
  {
   "cell_type": "code",
   "execution_count": 18,
   "metadata": {},
   "outputs": [
    {
     "data": {
      "text/plain": [
       "50000"
      ]
     },
     "execution_count": 18,
     "metadata": {},
     "output_type": "execute_result"
    }
   ],
   "source": [
    "len(x_train)"
   ]
  },
  {
   "cell_type": "code",
   "execution_count": 28,
   "metadata": {},
   "outputs": [],
   "source": [
    "x_train, y_train = train\n",
    "x_test, y_test = test\n",
    "\n",
    "# Preproc the inputs\n",
    "x_train = preproc_x(x_train)\n",
    "x_test = preproc_x(x_test)\n",
    "\n",
    "# Preprc the outputs\n",
    "y_train = preproc_y(y_train)\n",
    "y_test = preproc_y(y_test)"
   ]
  },
  {
   "cell_type": "markdown",
   "metadata": {},
   "source": [
    "# 五個隱藏層"
   ]
  },
  {
   "cell_type": "code",
   "execution_count": 32,
   "metadata": {},
   "outputs": [
    {
     "name": "stdout",
     "output_type": "stream",
     "text": [
      "_________________________________________________________________\n",
      "Layer (type)                 Output Shape              Param #   \n",
      "=================================================================\n",
      "input_3 (InputLayer)         (None, 3072)              0         \n",
      "_________________________________________________________________\n",
      "hidden_layer1 (Dense)        (None, 512)               1573376   \n",
      "_________________________________________________________________\n",
      "hidden_layer2 (Dense)        (None, 256)               131328    \n",
      "_________________________________________________________________\n",
      "hidden_layer3 (Dense)        (None, 128)               32896     \n",
      "_________________________________________________________________\n",
      "hidden_layer4 (Dense)        (None, 64)                8256      \n",
      "_________________________________________________________________\n",
      "hidden_layer5 (Dense)        (None, 32)                2080      \n",
      "_________________________________________________________________\n",
      "output (Dense)               (None, 10)                330       \n",
      "=================================================================\n",
      "Total params: 1,748,266\n",
      "Trainable params: 1,748,266\n",
      "Non-trainable params: 0\n",
      "_________________________________________________________________\n"
     ]
    }
   ],
   "source": [
    "\"\"\"Code Here\n",
    "建立你的神經網路\n",
    "\"\"\"\n",
    "def build_mlp(input_shape, output_units=10, num_neurons=[512, 256, 128, 64, 32]):\n",
    "    input_layer = keras.layers.Input(input_shape)\n",
    "    \n",
    "    for i, n_units in enumerate(num_neurons):\n",
    "        if i == 0:\n",
    "            x = keras.layers.Dense(units=n_units, activation=\"relu\", name=\"hidden_layer\"+str(i+1))(input_layer)\n",
    "        else:\n",
    "            x = keras.layers.Dense(units=n_units, activation=\"relu\", name=\"hidden_layer\"+str(i+1))(x)\n",
    "    \n",
    "    out = keras.layers.Dense(units=output_units, activation=\"softmax\", name=\"output\")(x)\n",
    "    out = keras.layers.Dense(units=output_units, activation=\"softmax\", name=\"output\")(x)\n",
    "    out = keras.layers.Dense(units=output_units, activation=\"softmax\", name=\"output\")(x)\n",
    "    out = keras.layers.Dense(units=output_units, activation=\"softmax\", name=\"output\")(x)\n",
    "    out = keras.layers.Dense(units=output_units, activation=\"softmax\", name=\"output\")(x)\n",
    "    \n",
    "    model = keras.models.Model(inputs=[input_layer], outputs=[out])\n",
    "    return model\n",
    "\n",
    "model=build_mlp(input_shape=x_train.shape[1:])\n",
    "model.summary()"
   ]
  },
  {
   "cell_type": "code",
   "execution_count": 33,
   "metadata": {},
   "outputs": [],
   "source": [
    "## 超參數設定\n",
    "LEARNING_RATE = 0.001\n",
    "EPOCHS = 100\n",
    "BATCH_SIZE = 256"
   ]
  },
  {
   "cell_type": "code",
   "execution_count": 34,
   "metadata": {},
   "outputs": [
    {
     "name": "stderr",
     "output_type": "stream",
     "text": [
      "W0715 13:39:31.072683  8652 deprecation_wrapper.py:119] From F:\\Anaconda\\lib\\site-packages\\keras\\optimizers.py:790: The name tf.train.Optimizer is deprecated. Please use tf.compat.v1.train.Optimizer instead.\n",
      "\n",
      "W0715 13:39:31.079684  8652 deprecation_wrapper.py:119] From F:\\Anaconda\\lib\\site-packages\\keras\\backend\\tensorflow_backend.py:3295: The name tf.log is deprecated. Please use tf.math.log instead.\n",
      "\n"
     ]
    }
   ],
   "source": [
    "optimizer = keras.optimizers.Adam(lr=LEARNING_RATE)\n",
    "model.compile(loss=\"categorical_crossentropy\", metrics=[\"accuracy\"], optimizer=optimizer)"
   ]
  },
  {
   "cell_type": "code",
   "execution_count": 35,
   "metadata": {},
   "outputs": [
    {
     "name": "stderr",
     "output_type": "stream",
     "text": [
      "W0715 13:39:33.121138  8652 deprecation.py:323] From C:\\Users\\Administrator\\AppData\\Roaming\\Python\\Python37\\site-packages\\tensorflow\\python\\ops\\math_grad.py:1250: add_dispatch_support.<locals>.wrapper (from tensorflow.python.ops.array_ops) is deprecated and will be removed in a future version.\n",
      "Instructions for updating:\n",
      "Use tf.where in 2.0, which has the same broadcast rule as np.where\n",
      "W0715 13:39:33.173158  8652 deprecation_wrapper.py:119] From F:\\Anaconda\\lib\\site-packages\\keras\\backend\\tensorflow_backend.py:986: The name tf.assign_add is deprecated. Please use tf.compat.v1.assign_add instead.\n",
      "\n"
     ]
    },
    {
     "name": "stdout",
     "output_type": "stream",
     "text": [
      "Train on 50000 samples, validate on 10000 samples\n",
      "Epoch 1/100\n",
      "50000/50000 [==============================] - 9s 182us/step - loss: 2.0385 - acc: 0.2495 - val_loss: 1.8723 - val_acc: 0.3169\n",
      "Epoch 2/100\n",
      "50000/50000 [==============================] - 9s 175us/step - loss: 1.8120 - acc: 0.3461 - val_loss: 1.7486 - val_acc: 0.3715\n",
      "Epoch 3/100\n",
      "50000/50000 [==============================] - 9s 175us/step - loss: 1.7080 - acc: 0.3835 - val_loss: 1.6623 - val_acc: 0.4047\n",
      "Epoch 4/100\n",
      "50000/50000 [==============================] - 9s 177us/step - loss: 1.6366 - acc: 0.4108 - val_loss: 1.5857 - val_acc: 0.4358\n",
      "Epoch 5/100\n",
      "50000/50000 [==============================] - 9s 177us/step - loss: 1.5719 - acc: 0.4317 - val_loss: 1.5928 - val_acc: 0.4332\n",
      "Epoch 6/100\n",
      "50000/50000 [==============================] - 8s 169us/step - loss: 1.5235 - acc: 0.4551 - val_loss: 1.5747 - val_acc: 0.4328\n",
      "Epoch 7/100\n",
      "50000/50000 [==============================] - 9s 171us/step - loss: 1.4843 - acc: 0.4679 - val_loss: 1.5057 - val_acc: 0.4629\n",
      "Epoch 8/100\n",
      "50000/50000 [==============================] - 9s 184us/step - loss: 1.4483 - acc: 0.4810 - val_loss: 1.4889 - val_acc: 0.4613\n",
      "Epoch 9/100\n",
      "50000/50000 [==============================] - 9s 171us/step - loss: 1.4176 - acc: 0.4937 - val_loss: 1.4795 - val_acc: 0.4680\n",
      "Epoch 10/100\n",
      "50000/50000 [==============================] - 9s 173us/step - loss: 1.3973 - acc: 0.5012 - val_loss: 1.4542 - val_acc: 0.4781\n",
      "Epoch 11/100\n",
      "50000/50000 [==============================] - 9s 171us/step - loss: 1.3661 - acc: 0.5109 - val_loss: 1.4714 - val_acc: 0.4810\n",
      "Epoch 12/100\n",
      "50000/50000 [==============================] - 8s 166us/step - loss: 1.3407 - acc: 0.5222 - val_loss: 1.4398 - val_acc: 0.4915\n",
      "Epoch 13/100\n",
      "50000/50000 [==============================] - 9s 173us/step - loss: 1.3155 - acc: 0.5289 - val_loss: 1.4305 - val_acc: 0.4922\n",
      "Epoch 14/100\n",
      "50000/50000 [==============================] - 8s 169us/step - loss: 1.2873 - acc: 0.5415 - val_loss: 1.4101 - val_acc: 0.4983\n",
      "Epoch 15/100\n",
      "50000/50000 [==============================] - 8s 166us/step - loss: 1.2688 - acc: 0.5460 - val_loss: 1.4182 - val_acc: 0.4964\n",
      "Epoch 16/100\n",
      "50000/50000 [==============================] - 9s 170us/step - loss: 1.2525 - acc: 0.5538 - val_loss: 1.3855 - val_acc: 0.5101\n",
      "Epoch 17/100\n",
      "50000/50000 [==============================] - 9s 171us/step - loss: 1.2234 - acc: 0.5632 - val_loss: 1.3709 - val_acc: 0.5124\n",
      "Epoch 18/100\n",
      "50000/50000 [==============================] - 8s 167us/step - loss: 1.2059 - acc: 0.5706 - val_loss: 1.4157 - val_acc: 0.5049\n",
      "Epoch 19/100\n",
      "50000/50000 [==============================] - 8s 169us/step - loss: 1.1863 - acc: 0.5756 - val_loss: 1.4438 - val_acc: 0.4986\n",
      "Epoch 20/100\n",
      "50000/50000 [==============================] - 8s 169us/step - loss: 1.1667 - acc: 0.5833 - val_loss: 1.4219 - val_acc: 0.5054\n",
      "Epoch 21/100\n",
      "50000/50000 [==============================] - 9s 171us/step - loss: 1.1521 - acc: 0.5859 - val_loss: 1.3767 - val_acc: 0.5125\n",
      "Epoch 22/100\n",
      "50000/50000 [==============================] - 9s 175us/step - loss: 1.1270 - acc: 0.5981 - val_loss: 1.3503 - val_acc: 0.5228\n",
      "Epoch 23/100\n",
      "50000/50000 [==============================] - 8s 168us/step - loss: 1.1105 - acc: 0.6034 - val_loss: 1.3951 - val_acc: 0.5106\n",
      "Epoch 24/100\n",
      "50000/50000 [==============================] - 8s 166us/step - loss: 1.0910 - acc: 0.6097 - val_loss: 1.3798 - val_acc: 0.5200\n",
      "Epoch 25/100\n",
      "50000/50000 [==============================] - 8s 165us/step - loss: 1.0721 - acc: 0.6162 - val_loss: 1.4263 - val_acc: 0.5103\n",
      "Epoch 26/100\n",
      "50000/50000 [==============================] - 8s 165us/step - loss: 1.0530 - acc: 0.6235 - val_loss: 1.4194 - val_acc: 0.5135\n",
      "Epoch 27/100\n",
      "50000/50000 [==============================] - 8s 167us/step - loss: 1.0410 - acc: 0.6288 - val_loss: 1.3838 - val_acc: 0.5222\n",
      "Epoch 28/100\n",
      "50000/50000 [==============================] - 8s 166us/step - loss: 1.0169 - acc: 0.6366 - val_loss: 1.4025 - val_acc: 0.5216\n",
      "Epoch 29/100\n",
      "50000/50000 [==============================] - 8s 165us/step - loss: 1.0060 - acc: 0.6407 - val_loss: 1.4161 - val_acc: 0.5216\n",
      "Epoch 30/100\n",
      "50000/50000 [==============================] - 9s 180us/step - loss: 0.9816 - acc: 0.6499 - val_loss: 1.4112 - val_acc: 0.5281\n",
      "Epoch 31/100\n",
      "50000/50000 [==============================] - 9s 180us/step - loss: 0.9600 - acc: 0.6569 - val_loss: 1.4133 - val_acc: 0.5249\n",
      "Epoch 32/100\n",
      "50000/50000 [==============================] - 8s 163us/step - loss: 0.9513 - acc: 0.6590 - val_loss: 1.4254 - val_acc: 0.5222\n",
      "Epoch 33/100\n",
      "50000/50000 [==============================] - 9s 174us/step - loss: 0.9332 - acc: 0.6693 - val_loss: 1.4318 - val_acc: 0.5220\n",
      "Epoch 34/100\n",
      "50000/50000 [==============================] - 9s 174us/step - loss: 0.9204 - acc: 0.6711 - val_loss: 1.4060 - val_acc: 0.5298\n",
      "Epoch 35/100\n",
      "50000/50000 [==============================] - 9s 173us/step - loss: 0.9065 - acc: 0.6759 - val_loss: 1.5410 - val_acc: 0.5089\n",
      "Epoch 36/100\n",
      "50000/50000 [==============================] - 8s 168us/step - loss: 0.8843 - acc: 0.6844 - val_loss: 1.4725 - val_acc: 0.5241\n",
      "Epoch 37/100\n",
      "50000/50000 [==============================] - 8s 170us/step - loss: 0.8600 - acc: 0.6935 - val_loss: 1.5089 - val_acc: 0.5195\n",
      "Epoch 38/100\n",
      "50000/50000 [==============================] - 9s 170us/step - loss: 0.8655 - acc: 0.6916 - val_loss: 1.5628 - val_acc: 0.5201\n",
      "Epoch 39/100\n",
      "50000/50000 [==============================] - 8s 166us/step - loss: 0.8370 - acc: 0.7019 - val_loss: 1.5107 - val_acc: 0.5247\n",
      "Epoch 40/100\n",
      "50000/50000 [==============================] - 9s 172us/step - loss: 0.8195 - acc: 0.7085 - val_loss: 1.5245 - val_acc: 0.5268\n",
      "Epoch 41/100\n",
      "50000/50000 [==============================] - 8s 167us/step - loss: 0.8056 - acc: 0.7109 - val_loss: 1.5662 - val_acc: 0.5162\n",
      "Epoch 42/100\n",
      "50000/50000 [==============================] - 8s 163us/step - loss: 0.8030 - acc: 0.7130 - val_loss: 1.5976 - val_acc: 0.5215\n",
      "Epoch 43/100\n",
      "50000/50000 [==============================] - 8s 166us/step - loss: 0.7755 - acc: 0.7241 - val_loss: 1.5682 - val_acc: 0.5227\n",
      "Epoch 44/100\n",
      "50000/50000 [==============================] - 8s 164us/step - loss: 0.7651 - acc: 0.7255 - val_loss: 1.5696 - val_acc: 0.5222\n",
      "Epoch 45/100\n",
      "50000/50000 [==============================] - 9s 173us/step - loss: 0.7439 - acc: 0.7342 - val_loss: 1.5867 - val_acc: 0.5212\n",
      "Epoch 46/100\n",
      "50000/50000 [==============================] - 8s 167us/step - loss: 0.7390 - acc: 0.7362 - val_loss: 1.6403 - val_acc: 0.5252\n",
      "Epoch 47/100\n",
      "50000/50000 [==============================] - 8s 166us/step - loss: 0.7287 - acc: 0.7391 - val_loss: 1.6145 - val_acc: 0.5230\n",
      "Epoch 48/100\n",
      "50000/50000 [==============================] - 9s 175us/step - loss: 0.7130 - acc: 0.7467 - val_loss: 1.6711 - val_acc: 0.5253\n",
      "Epoch 49/100\n",
      "50000/50000 [==============================] - 9s 175us/step - loss: 0.7065 - acc: 0.7462 - val_loss: 1.6988 - val_acc: 0.5130\n",
      "Epoch 50/100\n",
      "50000/50000 [==============================] - 8s 166us/step - loss: 0.6791 - acc: 0.7556 - val_loss: 1.7364 - val_acc: 0.5104\n",
      "Epoch 51/100\n",
      "50000/50000 [==============================] - 8s 169us/step - loss: 0.6724 - acc: 0.7591 - val_loss: 1.7117 - val_acc: 0.5104\n",
      "Epoch 52/100\n",
      "50000/50000 [==============================] - 8s 168us/step - loss: 0.6567 - acc: 0.7638 - val_loss: 1.8177 - val_acc: 0.5067\n",
      "Epoch 53/100\n",
      "50000/50000 [==============================] - 9s 172us/step - loss: 0.6407 - acc: 0.7721 - val_loss: 1.8487 - val_acc: 0.5103\n",
      "Epoch 54/100\n",
      "50000/50000 [==============================] - 9s 177us/step - loss: 0.6277 - acc: 0.7764 - val_loss: 1.7845 - val_acc: 0.5259\n",
      "Epoch 55/100\n",
      "50000/50000 [==============================] - 9s 180us/step - loss: 0.6205 - acc: 0.7801 - val_loss: 1.8485 - val_acc: 0.5101\n",
      "Epoch 56/100\n",
      "50000/50000 [==============================] - 9s 173us/step - loss: 0.6075 - acc: 0.7820 - val_loss: 1.8540 - val_acc: 0.5151\n",
      "Epoch 57/100\n",
      "50000/50000 [==============================] - 9s 171us/step - loss: 0.6072 - acc: 0.7816 - val_loss: 1.8812 - val_acc: 0.5204\n",
      "Epoch 58/100\n",
      "50000/50000 [==============================] - 9s 177us/step - loss: 0.5841 - acc: 0.7907 - val_loss: 1.9045 - val_acc: 0.5133\n",
      "Epoch 59/100\n"
     ]
    },
    {
     "name": "stdout",
     "output_type": "stream",
     "text": [
      "50000/50000 [==============================] - 9s 171us/step - loss: 0.5843 - acc: 0.7897 - val_loss: 2.0592 - val_acc: 0.4961\n",
      "Epoch 60/100\n",
      "50000/50000 [==============================] - 9s 171us/step - loss: 0.5811 - acc: 0.7934 - val_loss: 1.9241 - val_acc: 0.5142\n",
      "Epoch 61/100\n",
      "50000/50000 [==============================] - 9s 172us/step - loss: 0.5582 - acc: 0.8000 - val_loss: 2.0482 - val_acc: 0.4995\n",
      "Epoch 62/100\n",
      "50000/50000 [==============================] - 9s 173us/step - loss: 0.5472 - acc: 0.8052 - val_loss: 2.0212 - val_acc: 0.5180\n",
      "Epoch 63/100\n",
      "50000/50000 [==============================] - 8s 166us/step - loss: 0.5369 - acc: 0.8064 - val_loss: 1.9884 - val_acc: 0.5054\n",
      "Epoch 64/100\n",
      "50000/50000 [==============================] - 8s 169us/step - loss: 0.5263 - acc: 0.8127 - val_loss: 2.0779 - val_acc: 0.5003\n",
      "Epoch 65/100\n",
      "50000/50000 [==============================] - 8s 167us/step - loss: 0.5386 - acc: 0.8066 - val_loss: 2.0609 - val_acc: 0.5121\n",
      "Epoch 66/100\n",
      "50000/50000 [==============================] - 8s 163us/step - loss: 0.5046 - acc: 0.8209 - val_loss: 2.1454 - val_acc: 0.5112\n",
      "Epoch 67/100\n",
      "50000/50000 [==============================] - 8s 161us/step - loss: 0.5072 - acc: 0.8176 - val_loss: 2.0630 - val_acc: 0.5132\n",
      "Epoch 68/100\n",
      "50000/50000 [==============================] - 8s 165us/step - loss: 0.4885 - acc: 0.8253 - val_loss: 2.1759 - val_acc: 0.5123\n",
      "Epoch 69/100\n",
      "50000/50000 [==============================] - 9s 171us/step - loss: 0.4857 - acc: 0.8269 - val_loss: 2.2341 - val_acc: 0.5104\n",
      "Epoch 70/100\n",
      "50000/50000 [==============================] - 8s 169us/step - loss: 0.4784 - acc: 0.8287 - val_loss: 2.1704 - val_acc: 0.5079\n",
      "Epoch 71/100\n",
      "50000/50000 [==============================] - 8s 169us/step - loss: 0.4766 - acc: 0.8290 - val_loss: 2.2027 - val_acc: 0.5137\n",
      "Epoch 72/100\n",
      "50000/50000 [==============================] - 9s 171us/step - loss: 0.4526 - acc: 0.8393 - val_loss: 2.2994 - val_acc: 0.5099\n",
      "Epoch 73/100\n",
      "50000/50000 [==============================] - 8s 162us/step - loss: 0.4468 - acc: 0.8408 - val_loss: 2.2863 - val_acc: 0.5161\n",
      "Epoch 74/100\n",
      "50000/50000 [==============================] - 8s 162us/step - loss: 0.4223 - acc: 0.8483 - val_loss: 2.2971 - val_acc: 0.5042\n",
      "Epoch 75/100\n",
      "50000/50000 [==============================] - 8s 169us/step - loss: 0.4428 - acc: 0.8415 - val_loss: 2.2894 - val_acc: 0.5155\n",
      "Epoch 76/100\n",
      "50000/50000 [==============================] - 9s 171us/step - loss: 0.4316 - acc: 0.8464 - val_loss: 2.4099 - val_acc: 0.5117\n",
      "Epoch 77/100\n",
      "50000/50000 [==============================] - 9s 171us/step - loss: 0.4170 - acc: 0.8518 - val_loss: 2.4404 - val_acc: 0.5035\n",
      "Epoch 78/100\n",
      "50000/50000 [==============================] - 9s 170us/step - loss: 0.4197 - acc: 0.8500 - val_loss: 2.4196 - val_acc: 0.5004\n",
      "Epoch 79/100\n",
      "50000/50000 [==============================] - 9s 171us/step - loss: 0.4301 - acc: 0.8472 - val_loss: 2.3868 - val_acc: 0.5112\n",
      "Epoch 80/100\n",
      "50000/50000 [==============================] - 8s 163us/step - loss: 0.4068 - acc: 0.8549 - val_loss: 2.4896 - val_acc: 0.5113\n",
      "Epoch 81/100\n",
      "50000/50000 [==============================] - 8s 163us/step - loss: 0.4151 - acc: 0.8501 - val_loss: 2.5057 - val_acc: 0.5081\n",
      "Epoch 82/100\n",
      "50000/50000 [==============================] - 8s 161us/step - loss: 0.4030 - acc: 0.8544 - val_loss: 2.5087 - val_acc: 0.5115\n",
      "Epoch 83/100\n",
      "50000/50000 [==============================] - 8s 168us/step - loss: 0.4055 - acc: 0.8548 - val_loss: 2.4863 - val_acc: 0.5062\n",
      "Epoch 84/100\n",
      "50000/50000 [==============================] - 8s 166us/step - loss: 0.3933 - acc: 0.8589 - val_loss: 2.5217 - val_acc: 0.5043\n",
      "Epoch 85/100\n",
      "50000/50000 [==============================] - 8s 162us/step - loss: 0.3898 - acc: 0.8618 - val_loss: 2.5173 - val_acc: 0.5058\n",
      "Epoch 86/100\n",
      "50000/50000 [==============================] - 9s 172us/step - loss: 0.3530 - acc: 0.8739 - val_loss: 2.5968 - val_acc: 0.5077\n",
      "Epoch 87/100\n",
      "50000/50000 [==============================] - 9s 171us/step - loss: 0.3744 - acc: 0.8657 - val_loss: 2.6520 - val_acc: 0.5036\n",
      "Epoch 88/100\n",
      "50000/50000 [==============================] - 8s 169us/step - loss: 0.3662 - acc: 0.8696 - val_loss: 2.6654 - val_acc: 0.5016\n",
      "Epoch 89/100\n",
      "50000/50000 [==============================] - 9s 171us/step - loss: 0.3659 - acc: 0.8700 - val_loss: 2.6309 - val_acc: 0.5043\n",
      "Epoch 90/100\n",
      "50000/50000 [==============================] - 8s 168us/step - loss: 0.3585 - acc: 0.8720 - val_loss: 2.6891 - val_acc: 0.5123\n",
      "Epoch 91/100\n",
      "50000/50000 [==============================] - 8s 165us/step - loss: 0.3368 - acc: 0.8803 - val_loss: 2.7395 - val_acc: 0.5101\n",
      "Epoch 92/100\n",
      "50000/50000 [==============================] - 9s 171us/step - loss: 0.3416 - acc: 0.8778 - val_loss: 2.7957 - val_acc: 0.5043\n",
      "Epoch 93/100\n",
      "50000/50000 [==============================] - 8s 167us/step - loss: 0.3498 - acc: 0.8744 - val_loss: 2.7328 - val_acc: 0.5100\n",
      "Epoch 94/100\n",
      "50000/50000 [==============================] - 9s 170us/step - loss: 0.3479 - acc: 0.8763 - val_loss: 2.7521 - val_acc: 0.5043\n",
      "Epoch 95/100\n",
      "50000/50000 [==============================] - 8s 166us/step - loss: 0.3439 - acc: 0.8757 - val_loss: 2.7725 - val_acc: 0.5016\n",
      "Epoch 96/100\n",
      "50000/50000 [==============================] - 8s 165us/step - loss: 0.3190 - acc: 0.8850 - val_loss: 2.8641 - val_acc: 0.5157\n",
      "Epoch 97/100\n",
      "50000/50000 [==============================] - 8s 165us/step - loss: 0.3140 - acc: 0.8884 - val_loss: 2.8732 - val_acc: 0.5041\n",
      "Epoch 98/100\n",
      "50000/50000 [==============================] - 8s 169us/step - loss: 0.3372 - acc: 0.8794 - val_loss: 2.8819 - val_acc: 0.5030\n",
      "Epoch 99/100\n",
      "50000/50000 [==============================] - 8s 165us/step - loss: 0.3046 - acc: 0.8905 - val_loss: 2.9155 - val_acc: 0.4992\n",
      "Epoch 100/100\n",
      "50000/50000 [==============================] - 8s 168us/step - loss: 0.3233 - acc: 0.8837 - val_loss: 2.8938 - val_acc: 0.5047\n"
     ]
    },
    {
     "data": {
      "text/plain": [
       "<keras.callbacks.History at 0x238bc7ce3c8>"
      ]
     },
     "execution_count": 35,
     "metadata": {},
     "output_type": "execute_result"
    }
   ],
   "source": [
    "model.fit(x_train, y_train, \n",
    "          epochs=EPOCHS, \n",
    "          batch_size=BATCH_SIZE, \n",
    "          validation_data=(x_test, y_test), \n",
    "          shuffle=True)"
   ]
  },
  {
   "cell_type": "code",
   "execution_count": 37,
   "metadata": {},
   "outputs": [
    {
     "data": {
      "image/png": "[encoded data removed]",
      "text/plain": [
       "<Figure size 432x288 with 1 Axes>"
      ]
     },
     "metadata": {
      "needs_background": "light"
     },
     "output_type": "display_data"
    },
    {
     "data": {
      "image/png": "[encoded data removed]",
      "text/plain": [
       "<Figure size 432x288 with 1 Axes>"
      ]
     },
     "metadata": {
      "needs_background": "light"
     },
     "output_type": "display_data"
    }
   ],
   "source": [
    "import matplotlib.pyplot as plt\n",
    "\n",
    "\n",
    "train_loss = model.history.history[\"loss\"]\n",
    "valid_loss = model.history.history[\"val_loss\"]\n",
    "\n",
    "train_acc = model.history.history[\"acc\"]\n",
    "valid_acc = model.history.history[\"val_acc\"]\n",
    "\n",
    "plt.plot(range(len(train_loss)), train_loss, label=\"train loss\")\n",
    "plt.plot(range(len(valid_loss)), valid_loss, label=\"valid loss\")\n",
    "plt.legend()\n",
    "plt.title(\"Loss\")\n",
    "plt.show()\n",
    "\n",
    "plt.plot(range(len(train_acc)), train_acc, label=\"train accuracy\")\n",
    "plt.plot(range(len(valid_acc)), valid_acc, label=\"valid accuracy\")\n",
    "plt.legend()\n",
    "plt.title(\"Accuracy\")\n",
    "plt.show()"
   ]
  }
 ],
 "metadata": {
  "kernelspec": {
   "display_name": "Python 3",
   "language": "python",
   "name": "python3"
  },
  "language_info": {
   "codemirror_mode": {
    "name": "ipython",
    "version": 3
   },
   "file_extension": ".py",
   "mimetype": "text/x-python",
   "name": "python",
   "nbconvert_exporter": "python",
   "pygments_lexer": "ipython3",
   "version": "3.7.1"
  }
 },
 "nbformat": 4,
 "nbformat_minor": 2
}
