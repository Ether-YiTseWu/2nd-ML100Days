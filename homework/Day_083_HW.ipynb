{
 "cells": [
  {
   "cell_type": "markdown",
   "metadata": {},
   "source": [
    "## Work\n",
    "1. 試比較有 BN 在 Batch_size = 2, 16, 32, 128, 256 下的差異\n",
    "2. 請嘗試將 BN 放在 Activation 之前，並比較訓練結果\n",
    "3. 請於 BN 放在 Input Layer 後，並比較結果"
   ]
  },
  {
   "cell_type": "code",
   "execution_count": 22,
   "metadata": {},
   "outputs": [],
   "source": [
    "import os\n",
    "import keras\n",
    "import itertools\n",
    "# Disable GPU\n",
    "os.environ[\"CUDA_VISIBLE_DEVICES\"] = \"\""
   ]
  },
  {
   "cell_type": "code",
   "execution_count": 23,
   "metadata": {},
   "outputs": [],
   "source": [
    "train, test = keras.datasets.cifar10.load_data()"
   ]
  },
  {
   "cell_type": "code",
   "execution_count": 24,
   "metadata": {},
   "outputs": [],
   "source": [
    "## 資料前處理\n",
    "def preproc_x(x, flatten=True):\n",
    "    x = x / 255.\n",
    "    if flatten:\n",
    "        x = x.reshape((len(x), -1))\n",
    "    return x\n",
    "\n",
    "def preproc_y(y, num_classes=10):\n",
    "    if y.shape[-1] == 1:\n",
    "        y = keras.utils.to_categorical(y, num_classes)\n",
    "    return y    "
   ]
  },
  {
   "cell_type": "code",
   "execution_count": 25,
   "metadata": {},
   "outputs": [],
   "source": [
    "x_train, y_train = train\n",
    "x_test, y_test = test\n",
    "\n",
    "# Preproc the inputs\n",
    "x_train = preproc_x(x_train)\n",
    "x_test = preproc_x(x_test)\n",
    "\n",
    "# Preprc the outputs\n",
    "y_train = preproc_y(y_train)\n",
    "y_test = preproc_y(y_test)"
   ]
  },
  {
   "cell_type": "markdown",
   "metadata": {},
   "source": [
    "## BN放在activation前面\n"
   ]
  },
  {
   "cell_type": "code",
   "execution_count": 31,
   "metadata": {},
   "outputs": [],
   "source": [
    "from keras.layers import BatchNormalization\n",
    "\n",
    "\"\"\"\n",
    "建立神經網路，並加入 BN layer\n",
    "\"\"\"\n",
    "def build_mlp(input_shape, output_units=10, num_neurons=[512, 256, 128]):\n",
    "    input_layer = keras.layers.Input(input_shape)\n",
    "    \n",
    "    for i, n_units in enumerate(num_neurons):\n",
    "        if i == 0:\n",
    "            #x = BatchNormalization()(x)\n",
    "            x = keras.layers.Dense(units=n_units, \n",
    "                                   activation=\"relu\", \n",
    "                                   name=\"hidden_layer\"+str(i+1))(input_layer)\n",
    "            x = BatchNormalization()(x)\n",
    "        else:\n",
    "            x = BatchNormalization()(x)\n",
    "            x = keras.layers.Dense(units=n_units, \n",
    "                                   activation=\"relu\", \n",
    "                                   name=\"hidden_layer\"+str(i+1))(x)\n",
    "    \n",
    "    out = keras.layers.Dense(units=output_units, activation=\"softmax\", name=\"output\")(x)\n",
    "    \n",
    "    model = keras.models.Model(inputs=[input_layer], outputs=[out])\n",
    "    return model"
   ]
  },
  {
   "cell_type": "markdown",
   "metadata": {},
   "source": [
    "## BATCH_SIZE = 256"
   ]
  },
  {
   "cell_type": "code",
   "execution_count": 29,
   "metadata": {},
   "outputs": [],
   "source": [
    "\"\"\"Code Here\n",
    "設定超參數\n",
    "\"\"\"\n",
    "LEARNING_RATE = 1e-3\n",
    "EPOCHS = 50\n",
    "BATCH_SIZE = 256\n",
    "MOMENTUM = 0.95"
   ]
  },
  {
   "cell_type": "code",
   "execution_count": 32,
   "metadata": {
    "scrolled": true
   },
   "outputs": [
    {
     "name": "stdout",
     "output_type": "stream",
     "text": [
      "_________________________________________________________________\n",
      "Layer (type)                 Output Shape              Param #   \n",
      "=================================================================\n",
      "input_9 (InputLayer)         (None, 3072)              0         \n",
      "_________________________________________________________________\n",
      "hidden_layer1 (Dense)        (None, 512)               1573376   \n",
      "_________________________________________________________________\n",
      "batch_normalization_23 (Batc (None, 512)               2048      \n",
      "_________________________________________________________________\n",
      "batch_normalization_24 (Batc (None, 512)               2048      \n",
      "_________________________________________________________________\n",
      "hidden_layer2 (Dense)        (None, 256)               131328    \n",
      "_________________________________________________________________\n",
      "batch_normalization_25 (Batc (None, 256)               1024      \n",
      "_________________________________________________________________\n",
      "hidden_layer3 (Dense)        (None, 128)               32896     \n",
      "_________________________________________________________________\n",
      "output (Dense)               (None, 10)                1290      \n",
      "=================================================================\n",
      "Total params: 1,744,010\n",
      "Trainable params: 1,741,450\n",
      "Non-trainable params: 2,560\n",
      "_________________________________________________________________\n",
      "Train on 50000 samples, validate on 10000 samples\n",
      "Epoch 1/50\n",
      "50000/50000 [==============================] - 9s 178us/step - loss: 1.8497 - acc: 0.3496 - val_loss: 1.9543 - val_acc: 0.3326\n",
      "Epoch 2/50\n",
      "50000/50000 [==============================] - 7s 147us/step - loss: 1.5635 - acc: 0.4517 - val_loss: 1.7401 - val_acc: 0.3753\n",
      "Epoch 3/50\n",
      "50000/50000 [==============================] - 7s 146us/step - loss: 1.4592 - acc: 0.4899 - val_loss: 1.5955 - val_acc: 0.4301\n",
      "Epoch 4/50\n",
      "50000/50000 [==============================] - 7s 145us/step - loss: 1.3883 - acc: 0.5128 - val_loss: 1.5719 - val_acc: 0.4503\n",
      "Epoch 5/50\n",
      "50000/50000 [==============================] - 7s 144us/step - loss: 1.3314 - acc: 0.5347 - val_loss: 1.5336 - val_acc: 0.4613\n",
      "Epoch 6/50\n",
      "50000/50000 [==============================] - 7s 147us/step - loss: 1.2819 - acc: 0.5512 - val_loss: 1.4757 - val_acc: 0.4724\n",
      "Epoch 7/50\n",
      "50000/50000 [==============================] - 7s 140us/step - loss: 1.2331 - acc: 0.5701 - val_loss: 1.4685 - val_acc: 0.4887\n",
      "Epoch 8/50\n",
      "50000/50000 [==============================] - 7s 140us/step - loss: 1.1944 - acc: 0.5828 - val_loss: 1.5136 - val_acc: 0.4720\n",
      "Epoch 9/50\n",
      "50000/50000 [==============================] - 7s 140us/step - loss: 1.1541 - acc: 0.5997 - val_loss: 1.4526 - val_acc: 0.4974\n",
      "Epoch 10/50\n",
      "50000/50000 [==============================] - 7s 140us/step - loss: 1.1193 - acc: 0.6108 - val_loss: 1.5201 - val_acc: 0.4723\n",
      "Epoch 11/50\n",
      "50000/50000 [==============================] - 7s 146us/step - loss: 1.0870 - acc: 0.6237 - val_loss: 1.4855 - val_acc: 0.4795\n",
      "Epoch 12/50\n",
      "50000/50000 [==============================] - 7s 144us/step - loss: 1.0491 - acc: 0.6381 - val_loss: 1.4500 - val_acc: 0.4967\n",
      "Epoch 13/50\n",
      "50000/50000 [==============================] - 7s 143us/step - loss: 1.0174 - acc: 0.6491 - val_loss: 1.4584 - val_acc: 0.4978\n",
      "Epoch 14/50\n",
      "50000/50000 [==============================] - 7s 139us/step - loss: 0.9852 - acc: 0.6602 - val_loss: 1.4405 - val_acc: 0.4966\n",
      "Epoch 15/50\n",
      "50000/50000 [==============================] - 7s 140us/step - loss: 0.9542 - acc: 0.6711 - val_loss: 1.4784 - val_acc: 0.4946\n",
      "Epoch 16/50\n",
      "50000/50000 [==============================] - 7s 139us/step - loss: 0.9209 - acc: 0.6859 - val_loss: 1.4905 - val_acc: 0.4957\n",
      "Epoch 17/50\n",
      "50000/50000 [==============================] - 7s 143us/step - loss: 0.8901 - acc: 0.6975 - val_loss: 1.4590 - val_acc: 0.5027\n",
      "Epoch 18/50\n",
      "50000/50000 [==============================] - 7s 144us/step - loss: 0.8612 - acc: 0.7074 - val_loss: 1.4812 - val_acc: 0.5054\n",
      "Epoch 19/50\n",
      "50000/50000 [==============================] - 7s 141us/step - loss: 0.8311 - acc: 0.7180 - val_loss: 1.5628 - val_acc: 0.4731\n",
      "Epoch 20/50\n",
      "50000/50000 [==============================] - 7s 141us/step - loss: 0.8012 - acc: 0.7290 - val_loss: 1.4748 - val_acc: 0.5063\n",
      "Epoch 21/50\n",
      "50000/50000 [==============================] - 7s 140us/step - loss: 0.7769 - acc: 0.7368 - val_loss: 1.5896 - val_acc: 0.4860\n",
      "Epoch 22/50\n",
      "50000/50000 [==============================] - 7s 140us/step - loss: 0.7472 - acc: 0.7508 - val_loss: 1.5949 - val_acc: 0.4783\n",
      "Epoch 23/50\n",
      "50000/50000 [==============================] - 7s 143us/step - loss: 0.7218 - acc: 0.7578 - val_loss: 1.6114 - val_acc: 0.4892\n",
      "Epoch 24/50\n",
      "50000/50000 [==============================] - 8s 158us/step - loss: 0.6956 - acc: 0.7679 - val_loss: 1.6199 - val_acc: 0.4910\n",
      "Epoch 25/50\n",
      "50000/50000 [==============================] - 8s 155us/step - loss: 0.6703 - acc: 0.7784 - val_loss: 1.6181 - val_acc: 0.4912\n",
      "Epoch 26/50\n",
      "50000/50000 [==============================] - 7s 141us/step - loss: 0.6406 - acc: 0.7895 - val_loss: 1.6526 - val_acc: 0.4884\n",
      "Epoch 27/50\n",
      "50000/50000 [==============================] - 8s 151us/step - loss: 0.6151 - acc: 0.7968 - val_loss: 1.6556 - val_acc: 0.4863\n",
      "Epoch 28/50\n",
      "50000/50000 [==============================] - 7s 141us/step - loss: 0.5950 - acc: 0.8033 - val_loss: 1.8230 - val_acc: 0.4632\n",
      "Epoch 29/50\n",
      "50000/50000 [==============================] - 7s 146us/step - loss: 0.5696 - acc: 0.8138 - val_loss: 1.6260 - val_acc: 0.4939\n",
      "Epoch 30/50\n",
      "50000/50000 [==============================] - 7s 145us/step - loss: 0.5440 - acc: 0.8259 - val_loss: 1.7110 - val_acc: 0.4880\n",
      "Epoch 31/50\n",
      "50000/50000 [==============================] - 8s 159us/step - loss: 0.5208 - acc: 0.8324 - val_loss: 1.7620 - val_acc: 0.4844\n",
      "Epoch 32/50\n",
      "50000/50000 [==============================] - 7s 142us/step - loss: 0.4968 - acc: 0.8405 - val_loss: 1.7787 - val_acc: 0.4873\n",
      "Epoch 33/50\n",
      "50000/50000 [==============================] - 7s 140us/step - loss: 0.4720 - acc: 0.8509 - val_loss: 1.8471 - val_acc: 0.4797\n",
      "Epoch 34/50\n",
      "50000/50000 [==============================] - 7s 142us/step - loss: 0.4533 - acc: 0.8565 - val_loss: 1.7434 - val_acc: 0.4849\n",
      "Epoch 35/50\n",
      "50000/50000 [==============================] - 8s 152us/step - loss: 0.4330 - acc: 0.8641 - val_loss: 1.9323 - val_acc: 0.4723\n",
      "Epoch 36/50\n",
      "50000/50000 [==============================] - 8s 154us/step - loss: 0.4116 - acc: 0.8723 - val_loss: 1.8353 - val_acc: 0.4850\n",
      "Epoch 37/50\n",
      "50000/50000 [==============================] - 7s 147us/step - loss: 0.3896 - acc: 0.8818 - val_loss: 1.8881 - val_acc: 0.4920\n",
      "Epoch 38/50\n",
      "50000/50000 [==============================] - 7s 148us/step - loss: 0.3710 - acc: 0.8868 - val_loss: 1.9685 - val_acc: 0.4814\n",
      "Epoch 39/50\n",
      "50000/50000 [==============================] - 7s 146us/step - loss: 0.3581 - acc: 0.8910 - val_loss: 2.0345 - val_acc: 0.4608\n",
      "Epoch 40/50\n",
      "50000/50000 [==============================] - 7s 140us/step - loss: 0.3328 - acc: 0.9009 - val_loss: 1.9960 - val_acc: 0.4763\n",
      "Epoch 41/50\n",
      "50000/50000 [==============================] - 7s 142us/step - loss: 0.3181 - acc: 0.9065 - val_loss: 2.0044 - val_acc: 0.4751\n",
      "Epoch 42/50\n",
      "50000/50000 [==============================] - 7s 140us/step - loss: 0.3012 - acc: 0.9129 - val_loss: 2.0901 - val_acc: 0.4692\n",
      "Epoch 43/50\n",
      "50000/50000 [==============================] - 7s 139us/step - loss: 0.2874 - acc: 0.9169 - val_loss: 2.0620 - val_acc: 0.4792\n",
      "Epoch 44/50\n",
      "50000/50000 [==============================] - 8s 154us/step - loss: 0.2714 - acc: 0.9222 - val_loss: 2.1785 - val_acc: 0.4756\n",
      "Epoch 45/50\n",
      "50000/50000 [==============================] - 8s 152us/step - loss: 0.2496 - acc: 0.9301 - val_loss: 2.1607 - val_acc: 0.4731\n",
      "Epoch 46/50\n",
      "50000/50000 [==============================] - 7s 143us/step - loss: 0.2402 - acc: 0.9336 - val_loss: 2.1606 - val_acc: 0.4790\n",
      "Epoch 47/50\n",
      "50000/50000 [==============================] - 7s 139us/step - loss: 0.2274 - acc: 0.9393 - val_loss: 2.1306 - val_acc: 0.4770\n",
      "Epoch 48/50\n",
      "50000/50000 [==============================] - 7s 140us/step - loss: 0.2160 - acc: 0.9430 - val_loss: 2.2471 - val_acc: 0.4758\n",
      "Epoch 49/50\n"
     ]
    },
    {
     "name": "stdout",
     "output_type": "stream",
     "text": [
      "50000/50000 [==============================] - 7s 140us/step - loss: 0.2053 - acc: 0.9458 - val_loss: 2.2525 - val_acc: 0.4800\n",
      "Epoch 50/50\n",
      "50000/50000 [==============================] - 7s 138us/step - loss: 0.1922 - acc: 0.9502 - val_loss: 2.2681 - val_acc: 0.4787\n"
     ]
    }
   ],
   "source": [
    "model = build_mlp(input_shape=x_train.shape[1:])\n",
    "model.summary()\n",
    "optimizer = keras.optimizers.SGD(lr=LEARNING_RATE, nesterov=True, momentum=MOMENTUM)\n",
    "model.compile(loss=\"categorical_crossentropy\", metrics=[\"accuracy\"], optimizer=optimizer)\n",
    "\n",
    "model.fit(x_train, y_train, \n",
    "          epochs=EPOCHS, \n",
    "          batch_size=BATCH_SIZE, \n",
    "          validation_data=(x_test, y_test), \n",
    "          shuffle=True)\n",
    "\n",
    "# Collect results\n",
    "train_loss = model.history.history[\"loss\"]\n",
    "valid_loss = model.history.history[\"val_loss\"]\n",
    "train_acc = model.history.history[\"acc\"]\n",
    "valid_acc = model.history.history[\"val_acc\"]"
   ]
  },
  {
   "cell_type": "code",
   "execution_count": 34,
   "metadata": {},
   "outputs": [
    {
     "data": {
      "image/png": "[encoded data removed]",
      "text/plain": [
       "<Figure size 432x288 with 1 Axes>"
      ]
     },
     "metadata": {
      "needs_background": "light"
     },
     "output_type": "display_data"
    },
    {
     "data": {
      "image/png": "[encoded data removed]",
      "text/plain": [
       "<Figure size 432x288 with 1 Axes>"
      ]
     },
     "metadata": {
      "needs_background": "light"
     },
     "output_type": "display_data"
    }
   ],
   "source": [
    "import matplotlib.pyplot as plt\n",
    "%matplotlib inline\n",
    "\n",
    "plt.plot(range(len(train_loss)), train_loss, label=\"train loss\")\n",
    "plt.plot(range(len(valid_loss)), valid_loss, label=\"valid loss\")\n",
    "plt.legend()\n",
    "plt.title(\"Loss\")\n",
    "plt.show()\n",
    "\n",
    "plt.plot(range(len(train_acc)), train_acc, label=\"train accuracy\")\n",
    "plt.plot(range(len(valid_acc)), valid_acc, label=\"valid accuracy\")\n",
    "plt.legend()\n",
    "plt.title(\"Accuracy\")\n",
    "plt.show()"
   ]
  },
  {
   "cell_type": "markdown",
   "metadata": {},
   "source": [
    "## BATCH_SIZE = 128"
   ]
  },
  {
   "cell_type": "code",
   "execution_count": 35,
   "metadata": {},
   "outputs": [
    {
     "name": "stdout",
     "output_type": "stream",
     "text": [
      "_________________________________________________________________\n",
      "Layer (type)                 Output Shape              Param #   \n",
      "=================================================================\n",
      "input_10 (InputLayer)        (None, 3072)              0         \n",
      "_________________________________________________________________\n",
      "hidden_layer1 (Dense)        (None, 512)               1573376   \n",
      "_________________________________________________________________\n",
      "batch_normalization_26 (Batc (None, 512)               2048      \n",
      "_________________________________________________________________\n",
      "batch_normalization_27 (Batc (None, 512)               2048      \n",
      "_________________________________________________________________\n",
      "hidden_layer2 (Dense)        (None, 256)               131328    \n",
      "_________________________________________________________________\n",
      "batch_normalization_28 (Batc (None, 256)               1024      \n",
      "_________________________________________________________________\n",
      "hidden_layer3 (Dense)        (None, 128)               32896     \n",
      "_________________________________________________________________\n",
      "output (Dense)               (None, 10)                1290      \n",
      "=================================================================\n",
      "Total params: 1,744,010\n",
      "Trainable params: 1,741,450\n",
      "Non-trainable params: 2,560\n",
      "_________________________________________________________________\n",
      "Train on 50000 samples, validate on 10000 samples\n",
      "Epoch 1/50\n",
      "50000/50000 [==============================] - 12s 246us/step - loss: 1.7705 - acc: 0.3800 - val_loss: 1.7467 - val_acc: 0.3784\n",
      "Epoch 2/50\n",
      "50000/50000 [==============================] - 10s 209us/step - loss: 1.4978 - acc: 0.4727 - val_loss: 1.6352 - val_acc: 0.4224\n",
      "Epoch 3/50\n",
      "50000/50000 [==============================] - 10s 204us/step - loss: 1.4028 - acc: 0.5059 - val_loss: 1.5635 - val_acc: 0.4515\n",
      "Epoch 4/50\n",
      "50000/50000 [==============================] - 10s 208us/step - loss: 1.3287 - acc: 0.5316 - val_loss: 1.4623 - val_acc: 0.4792\n",
      "Epoch 5/50\n",
      "50000/50000 [==============================] - 10s 206us/step - loss: 1.2722 - acc: 0.5556 - val_loss: 1.4345 - val_acc: 0.4931\n",
      "Epoch 6/50\n",
      "50000/50000 [==============================] - 10s 207us/step - loss: 1.2235 - acc: 0.5700 - val_loss: 1.5009 - val_acc: 0.4713\n",
      "Epoch 7/50\n",
      "50000/50000 [==============================] - 10s 204us/step - loss: 1.1757 - acc: 0.5862 - val_loss: 1.5011 - val_acc: 0.4714\n",
      "Epoch 8/50\n",
      "50000/50000 [==============================] - 10s 201us/step - loss: 1.1353 - acc: 0.6019 - val_loss: 1.4314 - val_acc: 0.4944\n",
      "Epoch 9/50\n",
      "50000/50000 [==============================] - 10s 202us/step - loss: 1.0985 - acc: 0.6144 - val_loss: 1.4994 - val_acc: 0.4773\n",
      "Epoch 10/50\n",
      "50000/50000 [==============================] - 10s 206us/step - loss: 1.0614 - acc: 0.6292 - val_loss: 1.5103 - val_acc: 0.4798\n",
      "Epoch 11/50\n",
      "50000/50000 [==============================] - 11s 212us/step - loss: 1.0301 - acc: 0.6376 - val_loss: 1.4660 - val_acc: 0.4903\n",
      "Epoch 12/50\n",
      "50000/50000 [==============================] - 10s 208us/step - loss: 0.9928 - acc: 0.6542 - val_loss: 1.5868 - val_acc: 0.4552\n",
      "Epoch 13/50\n",
      "50000/50000 [==============================] - 10s 207us/step - loss: 0.9635 - acc: 0.6636 - val_loss: 1.4627 - val_acc: 0.4959\n",
      "Epoch 14/50\n",
      "50000/50000 [==============================] - 10s 201us/step - loss: 0.9288 - acc: 0.6771 - val_loss: 1.7059 - val_acc: 0.4354\n",
      "Epoch 15/50\n",
      "50000/50000 [==============================] - 10s 200us/step - loss: 0.8997 - acc: 0.6869 - val_loss: 1.5842 - val_acc: 0.4679\n",
      "Epoch 16/50\n",
      "50000/50000 [==============================] - 10s 206us/step - loss: 0.8616 - acc: 0.7037 - val_loss: 1.5896 - val_acc: 0.4767\n",
      "Epoch 17/50\n",
      "50000/50000 [==============================] - 10s 206us/step - loss: 0.8353 - acc: 0.7116 - val_loss: 1.6419 - val_acc: 0.4645\n",
      "Epoch 18/50\n",
      "50000/50000 [==============================] - 10s 209us/step - loss: 0.8064 - acc: 0.7207 - val_loss: 1.5652 - val_acc: 0.4886\n",
      "Epoch 19/50\n",
      "50000/50000 [==============================] - 11s 212us/step - loss: 0.7780 - acc: 0.7297 - val_loss: 1.5707 - val_acc: 0.4922\n",
      "Epoch 20/50\n",
      "50000/50000 [==============================] - 11s 219us/step - loss: 0.7491 - acc: 0.7423 - val_loss: 1.6738 - val_acc: 0.4645\n",
      "Epoch 21/50\n",
      "50000/50000 [==============================] - 10s 206us/step - loss: 0.7275 - acc: 0.7492 - val_loss: 1.6033 - val_acc: 0.4874\n",
      "Epoch 22/50\n",
      "50000/50000 [==============================] - 10s 200us/step - loss: 0.6992 - acc: 0.7603 - val_loss: 1.6301 - val_acc: 0.4928\n",
      "Epoch 23/50\n",
      "50000/50000 [==============================] - 10s 200us/step - loss: 0.6753 - acc: 0.7688 - val_loss: 1.8183 - val_acc: 0.4656\n",
      "Epoch 24/50\n",
      "50000/50000 [==============================] - 10s 198us/step - loss: 0.6545 - acc: 0.7754 - val_loss: 1.8168 - val_acc: 0.4489\n",
      "Epoch 25/50\n",
      "50000/50000 [==============================] - 10s 198us/step - loss: 0.6337 - acc: 0.7821 - val_loss: 1.7504 - val_acc: 0.4676\n",
      "Epoch 26/50\n",
      "50000/50000 [==============================] - 10s 199us/step - loss: 0.6037 - acc: 0.7938 - val_loss: 2.0328 - val_acc: 0.4506\n",
      "Epoch 27/50\n",
      "50000/50000 [==============================] - 10s 201us/step - loss: 0.5841 - acc: 0.8020 - val_loss: 1.8311 - val_acc: 0.4714\n",
      "Epoch 28/50\n",
      "50000/50000 [==============================] - 11s 214us/step - loss: 0.5705 - acc: 0.8045 - val_loss: 1.8017 - val_acc: 0.4746\n",
      "Epoch 29/50\n",
      "50000/50000 [==============================] - 11s 220us/step - loss: 0.5610 - acc: 0.8093 - val_loss: 1.9684 - val_acc: 0.4653\n",
      "Epoch 30/50\n",
      "50000/50000 [==============================] - 11s 218us/step - loss: 0.5231 - acc: 0.8219 - val_loss: 1.7678 - val_acc: 0.4910\n",
      "Epoch 31/50\n",
      "50000/50000 [==============================] - 11s 217us/step - loss: 0.5152 - acc: 0.8243 - val_loss: 1.9021 - val_acc: 0.4681\n",
      "Epoch 32/50\n",
      "50000/50000 [==============================] - 11s 219us/step - loss: 0.4837 - acc: 0.8374 - val_loss: 1.9738 - val_acc: 0.4622\n",
      "Epoch 33/50\n",
      "50000/50000 [==============================] - 11s 217us/step - loss: 0.4681 - acc: 0.8406 - val_loss: 2.2005 - val_acc: 0.4462\n",
      "Epoch 34/50\n",
      "50000/50000 [==============================] - 11s 213us/step - loss: 0.4556 - acc: 0.8455 - val_loss: 2.1363 - val_acc: 0.4619\n",
      "Epoch 35/50\n",
      "50000/50000 [==============================] - 10s 204us/step - loss: 0.4367 - acc: 0.8531 - val_loss: 2.0006 - val_acc: 0.4840\n",
      "Epoch 36/50\n",
      "50000/50000 [==============================] - 11s 211us/step - loss: 0.4092 - acc: 0.8633 - val_loss: 2.0307 - val_acc: 0.4649\n",
      "Epoch 37/50\n",
      "50000/50000 [==============================] - 10s 200us/step - loss: 0.3899 - acc: 0.8710 - val_loss: 2.1886 - val_acc: 0.4486\n",
      "Epoch 38/50\n",
      "50000/50000 [==============================] - 10s 205us/step - loss: 0.3776 - acc: 0.8750 - val_loss: 2.2109 - val_acc: 0.4711\n",
      "Epoch 39/50\n",
      "50000/50000 [==============================] - 10s 207us/step - loss: 0.3568 - acc: 0.8829 - val_loss: 2.3306 - val_acc: 0.4509\n",
      "Epoch 40/50\n",
      "50000/50000 [==============================] - 10s 210us/step - loss: 0.3518 - acc: 0.8827 - val_loss: 2.1816 - val_acc: 0.4739\n",
      "Epoch 41/50\n",
      "50000/50000 [==============================] - 11s 212us/step - loss: 0.3387 - acc: 0.8868 - val_loss: 2.2008 - val_acc: 0.4740\n",
      "Epoch 42/50\n",
      "50000/50000 [==============================] - 10s 206us/step - loss: 0.3284 - acc: 0.8913 - val_loss: 2.1800 - val_acc: 0.4724\n",
      "Epoch 43/50\n",
      "50000/50000 [==============================] - 10s 203us/step - loss: 0.3215 - acc: 0.8927 - val_loss: 2.3652 - val_acc: 0.4638\n",
      "Epoch 44/50\n",
      "50000/50000 [==============================] - 10s 207us/step - loss: 0.3105 - acc: 0.8962 - val_loss: 2.2096 - val_acc: 0.4815\n",
      "Epoch 45/50\n",
      "50000/50000 [==============================] - 11s 223us/step - loss: 0.2939 - acc: 0.9033 - val_loss: 2.4507 - val_acc: 0.4594\n",
      "Epoch 46/50\n",
      "50000/50000 [==============================] - 10s 202us/step - loss: 0.2896 - acc: 0.9028 - val_loss: 2.2204 - val_acc: 0.4820\n",
      "Epoch 47/50\n",
      "50000/50000 [==============================] - 10s 198us/step - loss: 0.2736 - acc: 0.9084 - val_loss: 2.5482 - val_acc: 0.4642\n",
      "Epoch 48/50\n",
      "50000/50000 [==============================] - 10s 199us/step - loss: 0.2680 - acc: 0.9103 - val_loss: 2.4609 - val_acc: 0.4708\n",
      "Epoch 49/50\n"
     ]
    },
    {
     "name": "stdout",
     "output_type": "stream",
     "text": [
      "50000/50000 [==============================] - 10s 202us/step - loss: 0.2588 - acc: 0.9145 - val_loss: 2.4898 - val_acc: 0.4738\n",
      "Epoch 50/50\n",
      "50000/50000 [==============================] - 10s 200us/step - loss: 0.2429 - acc: 0.9213 - val_loss: 2.4359 - val_acc: 0.4629\n"
     ]
    }
   ],
   "source": [
    "model = build_mlp(input_shape=x_train.shape[1:])\n",
    "model.summary()\n",
    "optimizer = keras.optimizers.SGD(lr=LEARNING_RATE, nesterov=True, momentum=MOMENTUM)\n",
    "model.compile(loss=\"categorical_crossentropy\", metrics=[\"accuracy\"], optimizer=optimizer)\n",
    "\n",
    "model.fit(x_train, y_train, \n",
    "          epochs=EPOCHS, \n",
    "          batch_size=128, \n",
    "          validation_data=(x_test, y_test), \n",
    "          shuffle=True)\n",
    "\n",
    "# Collect results\n",
    "train_loss = model.history.history[\"loss\"]\n",
    "valid_loss = model.history.history[\"val_loss\"]\n",
    "train_acc = model.history.history[\"acc\"]\n",
    "valid_acc = model.history.history[\"val_acc\"]"
   ]
  },
  {
   "cell_type": "code",
   "execution_count": 36,
   "metadata": {},
   "outputs": [
    {
     "data": {
      "image/png": "[encoded data removed]",
      "text/plain": [
       "<Figure size 432x288 with 1 Axes>"
      ]
     },
     "metadata": {
      "needs_background": "light"
     },
     "output_type": "display_data"
    },
    {
     "data": {
      "image/png": "[encoded data removed]",
      "text/plain": [
       "<Figure size 432x288 with 1 Axes>"
      ]
     },
     "metadata": {
      "needs_background": "light"
     },
     "output_type": "display_data"
    }
   ],
   "source": [
    "import matplotlib.pyplot as plt\n",
    "%matplotlib inline\n",
    "\n",
    "plt.plot(range(len(train_loss)), train_loss, label=\"train loss\")\n",
    "plt.plot(range(len(valid_loss)), valid_loss, label=\"valid loss\")\n",
    "plt.legend()\n",
    "plt.title(\"Loss\")\n",
    "plt.show()\n",
    "\n",
    "plt.plot(range(len(train_acc)), train_acc, label=\"train accuracy\")\n",
    "plt.plot(range(len(valid_acc)), valid_acc, label=\"valid accuracy\")\n",
    "plt.legend()\n",
    "plt.title(\"Accuracy\")\n",
    "plt.show()"
   ]
  },
  {
   "cell_type": "markdown",
   "metadata": {},
   "source": [
    "## 觀察\n",
    "- Batch size 越小，訓練時間越長\n",
    "- 兩者訓練效果差不多"
   ]
  }
 ],
 "metadata": {
  "kernelspec": {
   "display_name": "Python 3",
   "language": "python",
   "name": "python3"
  }
 },
 "nbformat": 4,
 "nbformat_minor": 2
}
