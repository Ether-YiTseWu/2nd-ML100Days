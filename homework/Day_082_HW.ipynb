{
 "cells": [
  {
   "cell_type": "markdown",
   "metadata": {},
   "source": [
    "## Work\n",
    "1. 請比較使用不同層數以及不同 Dropout rate 對訓練的效果\n",
    "2. 將 optimizer 改成使用 Adam 並加上適當的 dropout rate 檢視結果"
   ]
  },
  {
   "cell_type": "code",
   "execution_count": 2,
   "metadata": {},
   "outputs": [],
   "source": [
    "import os\n",
    "import keras\n",
    "import itertools\n",
    "# Disable GPU\n",
    "os.environ[\"CUDA_VISIBLE_DEVICES\"] = \"\""
   ]
  },
  {
   "cell_type": "code",
   "execution_count": 3,
   "metadata": {},
   "outputs": [],
   "source": [
    "train, test = keras.datasets.cifar10.load_data()"
   ]
  },
  {
   "cell_type": "code",
   "execution_count": 4,
   "metadata": {},
   "outputs": [],
   "source": [
    "## 資料前處理\n",
    "def preproc_x(x, flatten=True):\n",
    "    x = x / 255.\n",
    "    if flatten:\n",
    "        x = x.reshape((len(x), -1))\n",
    "    return x\n",
    "\n",
    "def preproc_y(y, num_classes=10):\n",
    "    if y.shape[-1] == 1:\n",
    "        y = keras.utils.to_categorical(y, num_classes)\n",
    "    return y    "
   ]
  },
  {
   "cell_type": "code",
   "execution_count": 5,
   "metadata": {},
   "outputs": [],
   "source": [
    "x_train, y_train = train\n",
    "x_test, y_test = test\n",
    "\n",
    "# Preproc the inputs\n",
    "x_train = preproc_x(x_train)\n",
    "x_test = preproc_x(x_test)\n",
    "\n",
    "# Preprc the outputs\n",
    "y_train = preproc_y(y_train)\n",
    "y_test = preproc_y(y_test)"
   ]
  },
  {
   "cell_type": "markdown",
   "metadata": {},
   "source": [
    "## Parameter Setting\n",
    "- drp_ratio=0.4\n",
    "- 4 layers"
   ]
  },
  {
   "cell_type": "code",
   "execution_count": 44,
   "metadata": {},
   "outputs": [],
   "source": [
    "from keras.layers import Dropout\n",
    "\n",
    "def build_mlp(input_shape, output_units=10, num_neurons=[512, 256, 128, 64], drp_ratio=0.4):\n",
    "    \"\"\"Code Here\n",
    "    建立你的神經網路\n",
    "    \"\"\"\n",
    "    input_layer = keras.layers.Input(input_shape)\n",
    "    \n",
    "    for i, n_units in enumerate(num_neurons):\n",
    "        if i == 0:\n",
    "            x = keras.layers.Dense(units=n_units, \n",
    "                                   activation=\"relu\", \n",
    "                                   name=\"hidden_layer\"+str(i+1))(input_layer)\n",
    "            x = Dropout(drp_ratio)(x)\n",
    "        else:\n",
    "            x = keras.layers.Dense(units=n_units, \n",
    "                                   activation=\"relu\", \n",
    "                                   name=\"hidden_layer\"+str(i+1))(x)\n",
    "            x = Dropout(drp_ratio)(x)\n",
    "    \n",
    "    out = keras.layers.Dense(units=output_units, activation=\"softmax\", name=\"output\")(x)\n",
    "    \n",
    "    model = keras.models.Model(inputs=[input_layer], outputs=[out])\n",
    "    return model"
   ]
  },
  {
   "cell_type": "code",
   "execution_count": 45,
   "metadata": {},
   "outputs": [],
   "source": [
    "\"\"\"Code Here\n",
    "設定超參數\n",
    "\"\"\"\n",
    "LEARNING_RATE = 1e-3\n",
    "EPOCHS = 50\n",
    "BATCH_SIZE = 256\n",
    "MOMENTUM = 0.95\n",
    "Dropout_EXP = 0.25"
   ]
  },
  {
   "cell_type": "markdown",
   "metadata": {},
   "source": [
    "## Optimizer Setting\n",
    "- Adam"
   ]
  },
  {
   "cell_type": "code",
   "execution_count": 46,
   "metadata": {
    "scrolled": true
   },
   "outputs": [
    {
     "name": "stdout",
     "output_type": "stream",
     "text": [
      "_________________________________________________________________\n",
      "Layer (type)                 Output Shape              Param #   \n",
      "=================================================================\n",
      "input_14 (InputLayer)        (None, 3072)              0         \n",
      "_________________________________________________________________\n",
      "hidden_layer1 (Dense)        (None, 512)               1573376   \n",
      "_________________________________________________________________\n",
      "dropout_40 (Dropout)         (None, 512)               0         \n",
      "_________________________________________________________________\n",
      "hidden_layer2 (Dense)        (None, 256)               131328    \n",
      "_________________________________________________________________\n",
      "dropout_41 (Dropout)         (None, 256)               0         \n",
      "_________________________________________________________________\n",
      "hidden_layer3 (Dense)        (None, 128)               32896     \n",
      "_________________________________________________________________\n",
      "dropout_42 (Dropout)         (None, 128)               0         \n",
      "_________________________________________________________________\n",
      "hidden_layer4 (Dense)        (None, 64)                8256      \n",
      "_________________________________________________________________\n",
      "dropout_43 (Dropout)         (None, 64)                0         \n",
      "_________________________________________________________________\n",
      "output (Dense)               (None, 10)                650       \n",
      "=================================================================\n",
      "Total params: 1,746,506\n",
      "Trainable params: 1,746,506\n",
      "Non-trainable params: 0\n",
      "_________________________________________________________________\n",
      "Train on 50000 samples, validate on 10000 samples\n",
      "Epoch 1/50\n",
      "50000/50000 [==============================] - 10s 202us/step - loss: 2.1421 - acc: 0.1874 - val_loss: 1.9655 - val_acc: 0.2796\n",
      "Epoch 2/50\n",
      "50000/50000 [==============================] - 9s 183us/step - loss: 1.9577 - acc: 0.2791 - val_loss: 1.8136 - val_acc: 0.3431\n",
      "Epoch 3/50\n",
      "50000/50000 [==============================] - 9s 176us/step - loss: 1.8950 - acc: 0.3051 - val_loss: 1.7852 - val_acc: 0.3620\n",
      "Epoch 4/50\n",
      "50000/50000 [==============================] - 9s 178us/step - loss: 1.8603 - acc: 0.3215 - val_loss: 1.7462 - val_acc: 0.3813\n",
      "Epoch 5/50\n",
      "50000/50000 [==============================] - 9s 179us/step - loss: 1.8254 - acc: 0.3353 - val_loss: 1.7369 - val_acc: 0.3821\n",
      "Epoch 6/50\n",
      "50000/50000 [==============================] - 9s 182us/step - loss: 1.8053 - acc: 0.3411 - val_loss: 1.7430 - val_acc: 0.3848\n",
      "Epoch 7/50\n",
      "50000/50000 [==============================] - 9s 177us/step - loss: 1.7919 - acc: 0.3529 - val_loss: 1.7044 - val_acc: 0.4058\n",
      "Epoch 8/50\n",
      "50000/50000 [==============================] - 9s 178us/step - loss: 1.7810 - acc: 0.3571 - val_loss: 1.6674 - val_acc: 0.4085\n",
      "Epoch 9/50\n",
      "50000/50000 [==============================] - 9s 188us/step - loss: 1.7553 - acc: 0.3658 - val_loss: 1.7225 - val_acc: 0.3950\n",
      "Epoch 10/50\n",
      "50000/50000 [==============================] - 9s 183us/step - loss: 1.7404 - acc: 0.3709 - val_loss: 1.6722 - val_acc: 0.4154\n",
      "Epoch 11/50\n",
      "50000/50000 [==============================] - 9s 180us/step - loss: 1.7354 - acc: 0.3732 - val_loss: 1.6511 - val_acc: 0.4216\n",
      "Epoch 12/50\n",
      "50000/50000 [==============================] - 9s 182us/step - loss: 1.7289 - acc: 0.3771 - val_loss: 1.6394 - val_acc: 0.4252\n",
      "Epoch 13/50\n",
      "50000/50000 [==============================] - 9s 187us/step - loss: 1.7154 - acc: 0.3839 - val_loss: 1.6591 - val_acc: 0.4169\n",
      "Epoch 14/50\n",
      "50000/50000 [==============================] - 9s 187us/step - loss: 1.7346 - acc: 0.3757 - val_loss: 1.6566 - val_acc: 0.4156\n",
      "Epoch 15/50\n",
      "50000/50000 [==============================] - 9s 190us/step - loss: 1.7163 - acc: 0.3811 - val_loss: 1.5963 - val_acc: 0.4416\n",
      "Epoch 16/50\n",
      "50000/50000 [==============================] - 10s 190us/step - loss: 1.6983 - acc: 0.3874 - val_loss: 1.6307 - val_acc: 0.4275\n",
      "Epoch 17/50\n",
      "50000/50000 [==============================] - 9s 187us/step - loss: 1.7031 - acc: 0.3880 - val_loss: 1.6104 - val_acc: 0.4398\n",
      "Epoch 18/50\n",
      "50000/50000 [==============================] - 9s 182us/step - loss: 1.6885 - acc: 0.3921 - val_loss: 1.6056 - val_acc: 0.4416\n",
      "Epoch 19/50\n",
      "50000/50000 [==============================] - 10s 194us/step - loss: 1.6811 - acc: 0.3957 - val_loss: 1.5895 - val_acc: 0.4407\n",
      "Epoch 20/50\n",
      "50000/50000 [==============================] - 9s 181us/step - loss: 1.6803 - acc: 0.3948 - val_loss: 1.6461 - val_acc: 0.4170\n",
      "Epoch 21/50\n",
      "50000/50000 [==============================] - 9s 189us/step - loss: 1.6654 - acc: 0.4003 - val_loss: 1.5975 - val_acc: 0.4377\n",
      "Epoch 22/50\n",
      "50000/50000 [==============================] - 9s 179us/step - loss: 1.6673 - acc: 0.4015 - val_loss: 1.5877 - val_acc: 0.4370\n",
      "Epoch 23/50\n",
      "50000/50000 [==============================] - 9s 179us/step - loss: 1.6645 - acc: 0.4021 - val_loss: 1.6083 - val_acc: 0.4373\n",
      "Epoch 24/50\n",
      "50000/50000 [==============================] - 9s 179us/step - loss: 1.6597 - acc: 0.4052 - val_loss: 1.5740 - val_acc: 0.4469\n",
      "Epoch 25/50\n",
      "50000/50000 [==============================] - 9s 180us/step - loss: 1.6573 - acc: 0.4023 - val_loss: 1.6004 - val_acc: 0.4237\n",
      "Epoch 26/50\n",
      "50000/50000 [==============================] - 9s 179us/step - loss: 1.6563 - acc: 0.4066 - val_loss: 1.5981 - val_acc: 0.4413\n",
      "Epoch 27/50\n",
      "50000/50000 [==============================] - 9s 180us/step - loss: 1.6448 - acc: 0.4095 - val_loss: 1.5815 - val_acc: 0.4384\n",
      "Epoch 28/50\n",
      "50000/50000 [==============================] - 9s 178us/step - loss: 1.6482 - acc: 0.4094 - val_loss: 1.5518 - val_acc: 0.4551\n",
      "Epoch 29/50\n",
      "50000/50000 [==============================] - 9s 178us/step - loss: 1.6303 - acc: 0.4166 - val_loss: 1.5522 - val_acc: 0.4568\n",
      "Epoch 30/50\n",
      "50000/50000 [==============================] - 9s 179us/step - loss: 1.6311 - acc: 0.4139 - val_loss: 1.5802 - val_acc: 0.4467\n",
      "Epoch 31/50\n",
      "50000/50000 [==============================] - 9s 179us/step - loss: 1.6296 - acc: 0.4130 - val_loss: 1.5577 - val_acc: 0.4435\n",
      "Epoch 32/50\n",
      "50000/50000 [==============================] - 9s 178us/step - loss: 1.6234 - acc: 0.4198 - val_loss: 1.5730 - val_acc: 0.4425\n",
      "Epoch 33/50\n",
      "50000/50000 [==============================] - 9s 178us/step - loss: 1.6228 - acc: 0.4202 - val_loss: 1.5438 - val_acc: 0.4577\n",
      "Epoch 34/50\n",
      "50000/50000 [==============================] - 9s 180us/step - loss: 1.6148 - acc: 0.4219 - val_loss: 1.5546 - val_acc: 0.4552\n",
      "Epoch 35/50\n",
      "50000/50000 [==============================] - 9s 178us/step - loss: 1.6145 - acc: 0.4226 - val_loss: 1.5412 - val_acc: 0.4568\n",
      "Epoch 36/50\n",
      "50000/50000 [==============================] - 9s 179us/step - loss: 1.6064 - acc: 0.4263 - val_loss: 1.5451 - val_acc: 0.4510\n",
      "Epoch 37/50\n",
      "50000/50000 [==============================] - 9s 179us/step - loss: 1.6052 - acc: 0.4241 - val_loss: 1.5412 - val_acc: 0.4509\n",
      "Epoch 38/50\n",
      "50000/50000 [==============================] - 9s 182us/step - loss: 1.6037 - acc: 0.4261 - val_loss: 1.5187 - val_acc: 0.4676\n",
      "Epoch 39/50\n",
      "50000/50000 [==============================] - 9s 181us/step - loss: 1.6070 - acc: 0.4242 - val_loss: 1.5578 - val_acc: 0.4381\n",
      "Epoch 40/50\n",
      "50000/50000 [==============================] - 9s 179us/step - loss: 1.6002 - acc: 0.4256 - val_loss: 1.5466 - val_acc: 0.4528\n",
      "Epoch 41/50\n",
      "50000/50000 [==============================] - 9s 180us/step - loss: 1.6054 - acc: 0.4241 - val_loss: 1.5399 - val_acc: 0.4601\n",
      "Epoch 42/50\n",
      "50000/50000 [==============================] - 9s 179us/step - loss: 1.5931 - acc: 0.4313 - val_loss: 1.5211 - val_acc: 0.4595\n",
      "Epoch 43/50\n",
      "50000/50000 [==============================] - 9s 178us/step - loss: 1.5953 - acc: 0.4282 - val_loss: 1.5474 - val_acc: 0.4554\n",
      "Epoch 44/50\n",
      "50000/50000 [==============================] - 9s 181us/step - loss: 1.5952 - acc: 0.4268 - val_loss: 1.5289 - val_acc: 0.4620\n",
      "Epoch 45/50\n",
      "50000/50000 [==============================] - 9s 185us/step - loss: 1.5861 - acc: 0.4350 - val_loss: 1.5319 - val_acc: 0.4630s: 1.\n",
      "Epoch 46/50\n",
      "50000/50000 [==============================] - 10s 192us/step - loss: 1.5821 - acc: 0.4347 - val_loss: 1.5246 - val_acc: 0.4662\n",
      "Epoch 47/50\n"
     ]
    },
    {
     "name": "stdout",
     "output_type": "stream",
     "text": [
      "50000/50000 [==============================] - 9s 183us/step - loss: 1.5802 - acc: 0.4366 - val_loss: 1.5443 - val_acc: 0.4530\n",
      "Epoch 48/50\n",
      "50000/50000 [==============================] - 9s 184us/step - loss: 1.5804 - acc: 0.4344 - val_loss: 1.5371 - val_acc: 0.4557\n",
      "Epoch 49/50\n",
      "50000/50000 [==============================] - 9s 179us/step - loss: 1.5759 - acc: 0.4356 - val_loss: 1.5281 - val_acc: 0.4582\n",
      "Epoch 50/50\n",
      "50000/50000 [==============================] - 9s 186us/step - loss: 1.5728 - acc: 0.4368 - val_loss: 1.5125 - val_acc: 0.4673\n"
     ]
    }
   ],
   "source": [
    "results = {}\n",
    "\"\"\"Code Here\n",
    "撰寫你的訓練流程並將結果用 dictionary 紀錄\n",
    "\"\"\"\n",
    "model = build_mlp(input_shape=x_train.shape[1:], drp_ratio=Dropout_EXP)\n",
    "model.summary()\n",
    "optimizer = keras.optimizers.Adam(lr=LEARNING_RATE, epsilon=None, decay=0.0)\n",
    "model.compile(loss=\"categorical_crossentropy\", metrics=[\"accuracy\"], optimizer=optimizer)\n",
    "\n",
    "model.fit(x_train, y_train, \n",
    "          epochs=EPOCHS, \n",
    "          batch_size=BATCH_SIZE, \n",
    "          validation_data=(x_test, y_test), \n",
    "          shuffle=True)\n",
    "\n",
    "# Collect results\n",
    "train_loss = model.history.history[\"loss\"]\n",
    "valid_loss = model.history.history[\"val_loss\"]\n",
    "train_acc = model.history.history[\"acc\"]\n",
    "valid_acc = model.history.history[\"val_acc\"]"
   ]
  },
  {
   "cell_type": "code",
   "execution_count": 47,
   "metadata": {},
   "outputs": [
    {
     "data": {
      "image/png": "[encoded data removed]",
      "text/plain": [
       "<Figure size 432x288 with 1 Axes>"
      ]
     },
     "metadata": {
      "needs_background": "light"
     },
     "output_type": "display_data"
    },
    {
     "data": {
      "image/png": "[encoded data removed]",
      "text/plain": [
       "<Figure size 432x288 with 1 Axes>"
      ]
     },
     "metadata": {
      "needs_background": "light"
     },
     "output_type": "display_data"
    }
   ],
   "source": [
    "import matplotlib.pyplot as plt\n",
    "%matplotlib inline\n",
    "\"\"\"Code Here\n",
    "將結果繪出\n",
    "\"\"\"\n",
    "plt.plot(range(len(train_loss)), train_loss, label=\"train loss\")\n",
    "plt.plot(range(len(valid_loss)), valid_loss, label=\"valid loss\")\n",
    "plt.legend()\n",
    "plt.title(\"Loss\")\n",
    "plt.show()\n",
    "\n",
    "plt.plot(range(len(train_acc)), train_acc, label=\"train accuracy\")\n",
    "plt.plot(range(len(valid_acc)), valid_acc, label=\"valid accuracy\")\n",
    "plt.legend()\n",
    "plt.title(\"Accuracy\")\n",
    "plt.show()"
   ]
  }
 ],
 "metadata": {
  "kernelspec": {
   "display_name": "Python 3",
   "language": "python",
   "name": "python3"
  },
  "language_info": {
   "codemirror_mode": {
    "name": "ipython",
    "version": 3
   },
   "file_extension": ".py",
   "mimetype": "text/x-python",
   "name": "python",
   "nbconvert_exporter": "python",
   "pygments_lexer": "ipython3",
   "version": "3.7.1"
  }
 },
 "nbformat": 4,
 "nbformat_minor": 2
}
