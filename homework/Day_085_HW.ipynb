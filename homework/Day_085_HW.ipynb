{
 "cells": [
  {
   "cell_type": "markdown",
   "metadata": {},
   "source": [
    "## Work\n",
    "1. 試改變 monitor \"Validation Accuracy\" 並比較結果\n",
    "2. 調整 earlystop 的等待次數至 10, 25 並比較結果"
   ]
  },
  {
   "cell_type": "code",
   "execution_count": 1,
   "metadata": {},
   "outputs": [
    {
     "name": "stderr",
     "output_type": "stream",
     "text": [
      "Using TensorFlow backend.\n"
     ]
    }
   ],
   "source": [
    "import os\n",
    "import keras\n",
    "import matplotlib.pyplot as plt\n",
    "%matplotlib inline\n",
    "\n",
    "\n",
    "# Disable GPU\n",
    "os.environ[\"CUDA_VISIBLE_DEVICES\"] = \"None\""
   ]
  },
  {
   "cell_type": "code",
   "execution_count": 2,
   "metadata": {},
   "outputs": [],
   "source": [
    "train, test = keras.datasets.cifar10.load_data()"
   ]
  },
  {
   "cell_type": "code",
   "execution_count": 3,
   "metadata": {},
   "outputs": [],
   "source": [
    "## 資料前處理\n",
    "def preproc_x(x, flatten=True):\n",
    "    x = x / 255.\n",
    "    if flatten:\n",
    "        x = x.reshape((len(x), -1))\n",
    "    return x\n",
    "\n",
    "def preproc_y(y, num_classes=10):\n",
    "    if y.shape[-1] == 1:\n",
    "        y = keras.utils.to_categorical(y, num_classes)\n",
    "    return y    "
   ]
  },
  {
   "cell_type": "code",
   "execution_count": 4,
   "metadata": {},
   "outputs": [],
   "source": [
    "x_train, y_train = train\n",
    "x_test, y_test = test\n",
    "\n",
    "# Preproc the inputs\n",
    "x_train = preproc_x(x_train)\n",
    "x_test = preproc_x(x_test)\n",
    "\n",
    "# Preprc the outputs\n",
    "y_train = preproc_y(y_train)\n",
    "y_test = preproc_y(y_test)"
   ]
  },
  {
   "cell_type": "code",
   "execution_count": 5,
   "metadata": {},
   "outputs": [],
   "source": [
    "from keras.layers import BatchNormalization\n",
    "\n",
    "def build_mlp(input_shape, output_units=10, num_neurons=[512, 256, 128]):\n",
    "    \"\"\"Code Here\n",
    "    建立你的神經網路\n",
    "    \"\"\"\n",
    "    input_layer = keras.layers.Input(input_shape)\n",
    "    \n",
    "    for i, n_units in enumerate(num_neurons):\n",
    "        if i == 0:\n",
    "            x = keras.layers.Dense(units=n_units, \n",
    "                                   activation=\"relu\", \n",
    "                                   name=\"hidden_layer\"+str(i+1))(input_layer)\n",
    "            x = BatchNormalization()(x)\n",
    "        else:\n",
    "            x = keras.layers.Dense(units=n_units, \n",
    "                                   activation=\"relu\", \n",
    "                                   name=\"hidden_layer\"+str(i+1))(x)\n",
    "            x = BatchNormalization()(x)\n",
    "    \n",
    "    out = keras.layers.Dense(units=output_units, activation=\"softmax\", name=\"output\")(x)\n",
    "    \n",
    "    model = keras.models.Model(inputs=[input_layer], outputs=[out])\n",
    "    return model"
   ]
  },
  {
   "cell_type": "code",
   "execution_count": 6,
   "metadata": {},
   "outputs": [],
   "source": [
    "\"\"\"Code Here\n",
    "設定超參數\n",
    "\"\"\"\n",
    "LEARNING_RATE = 1e-3\n",
    "EPOCHS = 50\n",
    "BATCH_SIZE = 1024\n",
    "MOMENTUM = 0.95"
   ]
  },
  {
   "cell_type": "markdown",
   "metadata": {},
   "source": [
    "## 等待次數 = 10"
   ]
  },
  {
   "cell_type": "code",
   "execution_count": 9,
   "metadata": {},
   "outputs": [
    {
     "name": "stdout",
     "output_type": "stream",
     "text": [
      "_________________________________________________________________\n",
      "Layer (type)                 Output Shape              Param #   \n",
      "=================================================================\n",
      "input_2 (InputLayer)         (None, 3072)              0         \n",
      "_________________________________________________________________\n",
      "hidden_layer1 (Dense)        (None, 512)               1573376   \n",
      "_________________________________________________________________\n",
      "batch_normalization_4 (Batch (None, 512)               2048      \n",
      "_________________________________________________________________\n",
      "hidden_layer2 (Dense)        (None, 256)               131328    \n",
      "_________________________________________________________________\n",
      "batch_normalization_5 (Batch (None, 256)               1024      \n",
      "_________________________________________________________________\n",
      "hidden_layer3 (Dense)        (None, 128)               32896     \n",
      "_________________________________________________________________\n",
      "batch_normalization_6 (Batch (None, 128)               512       \n",
      "_________________________________________________________________\n",
      "output (Dense)               (None, 10)                1290      \n",
      "=================================================================\n",
      "Total params: 1,742,474\n",
      "Trainable params: 1,740,682\n",
      "Non-trainable params: 1,792\n",
      "_________________________________________________________________\n",
      "Train on 50000 samples, validate on 10000 samples\n",
      "Epoch 1/50\n",
      "50000/50000 [==============================] - 6s 112us/step - loss: 2.1943 - acc: 0.2687 - val_loss: 2.0527 - val_acc: 0.3082\n",
      "Epoch 2/50\n",
      "50000/50000 [==============================] - 5s 94us/step - loss: 1.7449 - acc: 0.3916 - val_loss: 1.8228 - val_acc: 0.3713\n",
      "Epoch 3/50\n",
      "50000/50000 [==============================] - 5s 93us/step - loss: 1.6180 - acc: 0.4360 - val_loss: 1.7175 - val_acc: 0.3974\n",
      "Epoch 4/50\n",
      "50000/50000 [==============================] - 5s 94us/step - loss: 1.5438 - acc: 0.4616 - val_loss: 1.6333 - val_acc: 0.4263\n",
      "Epoch 5/50\n",
      "50000/50000 [==============================] - 5s 94us/step - loss: 1.4845 - acc: 0.4826 - val_loss: 1.6154 - val_acc: 0.4383\n",
      "Epoch 6/50\n",
      "50000/50000 [==============================] - 5s 94us/step - loss: 1.4391 - acc: 0.4998 - val_loss: 1.5696 - val_acc: 0.4525\n",
      "Epoch 7/50\n",
      "50000/50000 [==============================] - 5s 92us/step - loss: 1.3985 - acc: 0.5126 - val_loss: 1.5438 - val_acc: 0.4540\n",
      "Epoch 8/50\n",
      "50000/50000 [==============================] - 5s 95us/step - loss: 1.3614 - acc: 0.5260 - val_loss: 1.5237 - val_acc: 0.4666\n",
      "Epoch 9/50\n",
      "50000/50000 [==============================] - 5s 96us/step - loss: 1.3309 - acc: 0.5384 - val_loss: 1.5240 - val_acc: 0.4612\n",
      "Epoch 10/50\n",
      "50000/50000 [==============================] - 5s 95us/step - loss: 1.3022 - acc: 0.5485 - val_loss: 1.5037 - val_acc: 0.4689\n",
      "Epoch 11/50\n",
      "50000/50000 [==============================] - 5s 91us/step - loss: 1.2731 - acc: 0.5580 - val_loss: 1.4997 - val_acc: 0.4751\n",
      "Epoch 12/50\n",
      "50000/50000 [==============================] - 5s 91us/step - loss: 1.2483 - acc: 0.5675 - val_loss: 1.4991 - val_acc: 0.4778\n",
      "Epoch 13/50\n",
      "50000/50000 [==============================] - 5s 91us/step - loss: 1.2226 - acc: 0.5772 - val_loss: 1.4852 - val_acc: 0.4791\n",
      "Epoch 14/50\n",
      "50000/50000 [==============================] - 5s 93us/step - loss: 1.1944 - acc: 0.5884 - val_loss: 1.4771 - val_acc: 0.4794\n",
      "Epoch 15/50\n",
      "50000/50000 [==============================] - 5s 92us/step - loss: 1.1724 - acc: 0.5974 - val_loss: 1.4756 - val_acc: 0.4853\n",
      "Epoch 16/50\n",
      "50000/50000 [==============================] - 5s 92us/step - loss: 1.1482 - acc: 0.6059 - val_loss: 1.4635 - val_acc: 0.4869\n",
      "Epoch 17/50\n",
      "50000/50000 [==============================] - 5s 93us/step - loss: 1.1242 - acc: 0.6147 - val_loss: 1.4604 - val_acc: 0.4936\n",
      "Epoch 18/50\n",
      "50000/50000 [==============================] - 5s 91us/step - loss: 1.1004 - acc: 0.6251 - val_loss: 1.4603 - val_acc: 0.4900\n",
      "Epoch 19/50\n",
      "50000/50000 [==============================] - 5s 91us/step - loss: 1.0794 - acc: 0.6336 - val_loss: 1.4662 - val_acc: 0.4870\n",
      "Epoch 20/50\n",
      "50000/50000 [==============================] - 5s 91us/step - loss: 1.0610 - acc: 0.6384 - val_loss: 1.4630 - val_acc: 0.4952\n",
      "Epoch 21/50\n",
      "50000/50000 [==============================] - 5s 93us/step - loss: 1.0373 - acc: 0.6492 - val_loss: 1.4734 - val_acc: 0.4872\n",
      "Epoch 22/50\n",
      "50000/50000 [==============================] - 5s 95us/step - loss: 1.0149 - acc: 0.6565 - val_loss: 1.4632 - val_acc: 0.4916\n",
      "Epoch 23/50\n",
      "50000/50000 [==============================] - 5s 94us/step - loss: 0.9946 - acc: 0.6643 - val_loss: 1.4746 - val_acc: 0.4915\n",
      "Epoch 24/50\n",
      "50000/50000 [==============================] - 5s 93us/step - loss: 0.9735 - acc: 0.6734 - val_loss: 1.4659 - val_acc: 0.4958\n",
      "Epoch 25/50\n",
      "50000/50000 [==============================] - 5s 94us/step - loss: 0.9546 - acc: 0.6798 - val_loss: 1.4680 - val_acc: 0.4921\n",
      "Epoch 26/50\n",
      "50000/50000 [==============================] - 5s 93us/step - loss: 0.9340 - acc: 0.6895 - val_loss: 1.4657 - val_acc: 0.4936\n",
      "Epoch 27/50\n",
      "50000/50000 [==============================] - 5s 97us/step - loss: 0.9112 - acc: 0.6963 - val_loss: 1.4743 - val_acc: 0.4975A: 2s - \n",
      "Epoch 28/50\n",
      "50000/50000 [==============================] - 5s 99us/step - loss: 0.8919 - acc: 0.7059 - val_loss: 1.4626 - val_acc: 0.4995\n",
      "Epoch 29/50\n",
      "50000/50000 [==============================] - 5s 105us/step - loss: 0.8708 - acc: 0.7144 - val_loss: 1.4832 - val_acc: 0.4987\n",
      "Epoch 30/50\n",
      "50000/50000 [==============================] - 5s 98us/step - loss: 0.8537 - acc: 0.7188 - val_loss: 1.4931 - val_acc: 0.4952\n",
      "Epoch 31/50\n",
      "50000/50000 [==============================] - 5s 96us/step - loss: 0.8318 - acc: 0.7258 - val_loss: 1.4945 - val_acc: 0.5002\n",
      "Epoch 32/50\n",
      "50000/50000 [==============================] - 5s 93us/step - loss: 0.8120 - acc: 0.7358 - val_loss: 1.5053 - val_acc: 0.4948\n",
      "Epoch 33/50\n",
      "50000/50000 [==============================] - 5s 100us/step - loss: 0.7922 - acc: 0.7431 - val_loss: 1.4957 - val_acc: 0.5001\n",
      "Epoch 34/50\n",
      "50000/50000 [==============================] - 5s 91us/step - loss: 0.7726 - acc: 0.7490 - val_loss: 1.5015 - val_acc: 0.5012\n",
      "Epoch 35/50\n",
      "50000/50000 [==============================] - 4s 90us/step - loss: 0.7570 - acc: 0.7568 - val_loss: 1.5090 - val_acc: 0.4948\n",
      "Epoch 36/50\n",
      "50000/50000 [==============================] - 5s 91us/step - loss: 0.7350 - acc: 0.7672 - val_loss: 1.5233 - val_acc: 0.4939\n",
      "Epoch 37/50\n",
      "50000/50000 [==============================] - 5s 90us/step - loss: 0.7181 - acc: 0.7724 - val_loss: 1.5459 - val_acc: 0.4919\n",
      "Epoch 38/50\n",
      "50000/50000 [==============================] - 4s 90us/step - loss: 0.6968 - acc: 0.7806 - val_loss: 1.5347 - val_acc: 0.5004\n",
      "Epoch 39/50\n",
      "50000/50000 [==============================] - 5s 91us/step - loss: 0.6788 - acc: 0.7869 - val_loss: 1.5592 - val_acc: 0.4916\n",
      "Epoch 40/50\n",
      "50000/50000 [==============================] - 5s 90us/step - loss: 0.6621 - acc: 0.7943 - val_loss: 1.5669 - val_acc: 0.4908\n",
      "Epoch 41/50\n",
      "50000/50000 [==============================] - 5s 90us/step - loss: 0.6441 - acc: 0.8020 - val_loss: 1.5607 - val_acc: 0.4965\n",
      "Epoch 42/50\n",
      "50000/50000 [==============================] - 4s 90us/step - loss: 0.6253 - acc: 0.8087 - val_loss: 1.5791 - val_acc: 0.4944\n",
      "Epoch 43/50\n",
      "50000/50000 [==============================] - 5s 90us/step - loss: 0.6085 - acc: 0.8134 - val_loss: 1.5992 - val_acc: 0.4931\n",
      "Epoch 44/50\n",
      "50000/50000 [==============================] - 5s 90us/step - loss: 0.5908 - acc: 0.8220 - val_loss: 1.6084 - val_acc: 0.4950\n",
      "Epoch 00044: early stopping\n"
     ]
    }
   ],
   "source": [
    "# 載入 Callbacks\n",
    "\"\"\"Code Here\n",
    "設定 callbacks: Earlystop\n",
    "\"\"\"\n",
    "from keras.callbacks import EarlyStopping\n",
    "\n",
    "earlystop = EarlyStopping(monitor=\"val_acc\", \n",
    "                          patience=10, \n",
    "                          verbose=1\n",
    "                          )\n",
    "results = {}\n",
    "\"\"\"Code Here\n",
    "撰寫你的訓練流程並將結果用 dictionary 紀錄\n",
    "\"\"\"\n",
    "model = build_mlp(input_shape=x_train.shape[1:])\n",
    "model.summary()\n",
    "optimizer = keras.optimizers.SGD(lr=LEARNING_RATE, nesterov=True, momentum=MOMENTUM)\n",
    "model.compile(loss=\"categorical_crossentropy\", metrics=[\"accuracy\"], optimizer=optimizer)\n",
    "\n",
    "model.fit(x_train, y_train, \n",
    "          epochs=EPOCHS, \n",
    "          batch_size=BATCH_SIZE, \n",
    "          validation_data=(x_test, y_test), \n",
    "          shuffle=True,\n",
    "          callbacks=[earlystop]\n",
    "         )\n",
    "\n",
    "# Collect results\n",
    "train_loss = model.history.history[\"loss\"]\n",
    "valid_loss = model.history.history[\"val_loss\"]\n",
    "train_acc = model.history.history[\"acc\"]\n",
    "valid_acc = model.history.history[\"val_acc\"]"
   ]
  },
  {
   "cell_type": "code",
   "execution_count": 10,
   "metadata": {},
   "outputs": [
    {
     "data": {
      "image/png": "[encoded data removed]",
      "text/plain": [
       "<Figure size 432x288 with 1 Axes>"
      ]
     },
     "metadata": {
      "needs_background": "light"
     },
     "output_type": "display_data"
    },
    {
     "data": {
      "image/png": "[encoded data removed]",
      "text/plain": [
       "<Figure size 432x288 with 1 Axes>"
      ]
     },
     "metadata": {
      "needs_background": "light"
     },
     "output_type": "display_data"
    }
   ],
   "source": [
    "import matplotlib.pyplot as plt\n",
    "%matplotlib inline\n",
    "\"\"\"Code Here\n",
    "將結果繪出\n",
    "\"\"\"\n",
    "import matplotlib.pyplot as plt\n",
    "%matplotlib inline\n",
    "\n",
    "plt.plot(range(len(train_loss)), train_loss, label=\"train loss\")\n",
    "plt.plot(range(len(valid_loss)), valid_loss, label=\"valid loss\")\n",
    "plt.legend()\n",
    "plt.title(\"Loss\")\n",
    "plt.show()\n",
    "\n",
    "plt.plot(range(len(train_acc)), train_acc, label=\"train accuracy\")\n",
    "plt.plot(range(len(valid_acc)), valid_acc, label=\"valid accuracy\")\n",
    "plt.legend()\n",
    "plt.title(\"Accuracy\")\n",
    "plt.show()"
   ]
  },
  {
   "cell_type": "markdown",
   "metadata": {},
   "source": [
    "## 等待次數 = 25"
   ]
  },
  {
   "cell_type": "code",
   "execution_count": 12,
   "metadata": {},
   "outputs": [
    {
     "name": "stdout",
     "output_type": "stream",
     "text": [
      "_________________________________________________________________\n",
      "Layer (type)                 Output Shape              Param #   \n",
      "=================================================================\n",
      "input_3 (InputLayer)         (None, 3072)              0         \n",
      "_________________________________________________________________\n",
      "hidden_layer1 (Dense)        (None, 512)               1573376   \n",
      "_________________________________________________________________\n",
      "batch_normalization_7 (Batch (None, 512)               2048      \n",
      "_________________________________________________________________\n",
      "hidden_layer2 (Dense)        (None, 256)               131328    \n",
      "_________________________________________________________________\n",
      "batch_normalization_8 (Batch (None, 256)               1024      \n",
      "_________________________________________________________________\n",
      "hidden_layer3 (Dense)        (None, 128)               32896     \n",
      "_________________________________________________________________\n",
      "batch_normalization_9 (Batch (None, 128)               512       \n",
      "_________________________________________________________________\n",
      "output (Dense)               (None, 10)                1290      \n",
      "=================================================================\n",
      "Total params: 1,742,474\n",
      "Trainable params: 1,740,682\n",
      "Non-trainable params: 1,792\n",
      "_________________________________________________________________\n",
      "Train on 50000 samples, validate on 10000 samples\n",
      "Epoch 1/50\n",
      "50000/50000 [==============================] - 6s 115us/step - loss: 2.2464 - acc: 0.2668 - val_loss: 2.1943 - val_acc: 0.3118\n",
      "Epoch 2/50\n",
      "50000/50000 [==============================] - 5s 95us/step - loss: 1.7490 - acc: 0.3921 - val_loss: 1.7989 - val_acc: 0.3912\n",
      "Epoch 3/50\n",
      "50000/50000 [==============================] - 5s 93us/step - loss: 1.6167 - acc: 0.4361 - val_loss: 1.7135 - val_acc: 0.4057\n",
      "Epoch 4/50\n",
      "50000/50000 [==============================] - 5s 92us/step - loss: 1.5394 - acc: 0.4623 - val_loss: 1.6501 - val_acc: 0.4306\n",
      "Epoch 5/50\n",
      "50000/50000 [==============================] - 5s 91us/step - loss: 1.4862 - acc: 0.4814 - val_loss: 1.6142 - val_acc: 0.4376\n",
      "Epoch 6/50\n",
      "50000/50000 [==============================] - 5s 91us/step - loss: 1.4379 - acc: 0.4962 - val_loss: 1.5696 - val_acc: 0.4539\n",
      "Epoch 7/50\n",
      "50000/50000 [==============================] - 5s 91us/step - loss: 1.3996 - acc: 0.5098 - val_loss: 1.5397 - val_acc: 0.4641\n",
      "Epoch 8/50\n",
      "50000/50000 [==============================] - 5s 92us/step - loss: 1.3643 - acc: 0.5259 - val_loss: 1.5410 - val_acc: 0.4575\n",
      "Epoch 9/50\n",
      "50000/50000 [==============================] - 5s 92us/step - loss: 1.3332 - acc: 0.5354 - val_loss: 1.5224 - val_acc: 0.4648\n",
      "Epoch 10/50\n",
      "50000/50000 [==============================] - 5s 91us/step - loss: 1.3045 - acc: 0.5459 - val_loss: 1.5078 - val_acc: 0.4729\n",
      "Epoch 11/50\n",
      "50000/50000 [==============================] - 5s 91us/step - loss: 1.2769 - acc: 0.5552 - val_loss: 1.5087 - val_acc: 0.4757\n",
      "Epoch 12/50\n",
      "50000/50000 [==============================] - 5s 91us/step - loss: 1.2501 - acc: 0.5670 - val_loss: 1.4885 - val_acc: 0.4769\n",
      "Epoch 13/50\n",
      "50000/50000 [==============================] - 5s 91us/step - loss: 1.2247 - acc: 0.5770 - val_loss: 1.4873 - val_acc: 0.4816\n",
      "Epoch 14/50\n",
      "50000/50000 [==============================] - 5s 92us/step - loss: 1.2002 - acc: 0.5873 - val_loss: 1.4783 - val_acc: 0.4816\n",
      "Epoch 15/50\n",
      "50000/50000 [==============================] - 5s 91us/step - loss: 1.1754 - acc: 0.5949 - val_loss: 1.4669 - val_acc: 0.4887\n",
      "Epoch 16/50\n",
      "50000/50000 [==============================] - 5s 91us/step - loss: 1.1528 - acc: 0.6037 - val_loss: 1.4635 - val_acc: 0.4880\n",
      "Epoch 17/50\n",
      "50000/50000 [==============================] - 5s 91us/step - loss: 1.1302 - acc: 0.6114 - val_loss: 1.4659 - val_acc: 0.4907\n",
      "Epoch 18/50\n",
      "50000/50000 [==============================] - 5s 91us/step - loss: 1.1070 - acc: 0.6196 - val_loss: 1.4749 - val_acc: 0.4840\n",
      "Epoch 19/50\n",
      "50000/50000 [==============================] - 5s 91us/step - loss: 1.0868 - acc: 0.6289 - val_loss: 1.4693 - val_acc: 0.4928\n",
      "Epoch 20/50\n",
      "50000/50000 [==============================] - 5s 91us/step - loss: 1.0663 - acc: 0.6361 - val_loss: 1.4648 - val_acc: 0.4951\n",
      "Epoch 21/50\n",
      "50000/50000 [==============================] - 5s 92us/step - loss: 1.0422 - acc: 0.6453 - val_loss: 1.4699 - val_acc: 0.4896\n",
      "Epoch 22/50\n",
      "50000/50000 [==============================] - 5s 91us/step - loss: 1.0205 - acc: 0.6549 - val_loss: 1.4650 - val_acc: 0.4968\n",
      "Epoch 23/50\n",
      "50000/50000 [==============================] - 5s 93us/step - loss: 1.0023 - acc: 0.6619 - val_loss: 1.4696 - val_acc: 0.4925\n",
      "Epoch 24/50\n",
      "50000/50000 [==============================] - 5s 92us/step - loss: 0.9822 - acc: 0.6704 - val_loss: 1.4716 - val_acc: 0.4980\n",
      "Epoch 25/50\n",
      "50000/50000 [==============================] - 5s 91us/step - loss: 0.9616 - acc: 0.6783 - val_loss: 1.4883 - val_acc: 0.4860\n",
      "Epoch 26/50\n",
      "50000/50000 [==============================] - 5s 93us/step - loss: 0.9407 - acc: 0.6866 - val_loss: 1.4781 - val_acc: 0.4907\n",
      "Epoch 27/50\n",
      "50000/50000 [==============================] - 5s 92us/step - loss: 0.9184 - acc: 0.6956 - val_loss: 1.4682 - val_acc: 0.4977\n",
      "Epoch 28/50\n",
      "50000/50000 [==============================] - 5s 91us/step - loss: 0.8985 - acc: 0.7030 - val_loss: 1.4794 - val_acc: 0.4961\n",
      "Epoch 29/50\n",
      "50000/50000 [==============================] - 5s 92us/step - loss: 0.8811 - acc: 0.7084 - val_loss: 1.4856 - val_acc: 0.4952\n",
      "Epoch 30/50\n",
      "50000/50000 [==============================] - 5s 91us/step - loss: 0.8626 - acc: 0.7147 - val_loss: 1.4926 - val_acc: 0.4978\n",
      "Epoch 31/50\n",
      "50000/50000 [==============================] - 5s 91us/step - loss: 0.8407 - acc: 0.7247 - val_loss: 1.4985 - val_acc: 0.4961\n",
      "Epoch 32/50\n",
      "50000/50000 [==============================] - 5s 91us/step - loss: 0.8209 - acc: 0.7330 - val_loss: 1.5176 - val_acc: 0.4869\n",
      "Epoch 33/50\n",
      "50000/50000 [==============================] - 5s 91us/step - loss: 0.8003 - acc: 0.7413 - val_loss: 1.4988 - val_acc: 0.5010\n",
      "Epoch 34/50\n",
      "50000/50000 [==============================] - 5s 90us/step - loss: 0.7825 - acc: 0.7471 - val_loss: 1.5096 - val_acc: 0.4961\n",
      "Epoch 35/50\n",
      "50000/50000 [==============================] - 5s 92us/step - loss: 0.7651 - acc: 0.7540 - val_loss: 1.5151 - val_acc: 0.4979\n",
      "Epoch 36/50\n",
      "50000/50000 [==============================] - 5s 91us/step - loss: 0.7454 - acc: 0.7625 - val_loss: 1.5170 - val_acc: 0.5006\n",
      "Epoch 37/50\n",
      "50000/50000 [==============================] - 5s 91us/step - loss: 0.7268 - acc: 0.7695 - val_loss: 1.5219 - val_acc: 0.4963\n",
      "Epoch 38/50\n",
      "50000/50000 [==============================] - 5s 92us/step - loss: 0.7084 - acc: 0.7772 - val_loss: 1.5432 - val_acc: 0.4966\n",
      "Epoch 39/50\n",
      "50000/50000 [==============================] - 5s 92us/step - loss: 0.6895 - acc: 0.7838 - val_loss: 1.5502 - val_acc: 0.5010\n",
      "Epoch 40/50\n",
      "50000/50000 [==============================] - 5s 92us/step - loss: 0.6732 - acc: 0.7905 - val_loss: 1.5519 - val_acc: 0.5018\n",
      "Epoch 41/50\n",
      "50000/50000 [==============================] - 5s 92us/step - loss: 0.6528 - acc: 0.7985 - val_loss: 1.5932 - val_acc: 0.4876\n",
      "Epoch 42/50\n",
      "50000/50000 [==============================] - 5s 91us/step - loss: 0.6356 - acc: 0.8067 - val_loss: 1.5780 - val_acc: 0.4950\n",
      "Epoch 43/50\n",
      "50000/50000 [==============================] - 5s 90us/step - loss: 0.6174 - acc: 0.8132 - val_loss: 1.6181 - val_acc: 0.4876\n",
      "Epoch 44/50\n",
      "50000/50000 [==============================] - 5s 91us/step - loss: 0.6003 - acc: 0.8196 - val_loss: 1.5982 - val_acc: 0.4918\n",
      "Epoch 45/50\n",
      "50000/50000 [==============================] - 5s 91us/step - loss: 0.5822 - acc: 0.8268 - val_loss: 1.6238 - val_acc: 0.4911\n",
      "Epoch 46/50\n",
      "50000/50000 [==============================] - 5s 91us/step - loss: 0.5659 - acc: 0.8327 - val_loss: 1.6121 - val_acc: 0.4980\n",
      "Epoch 47/50\n",
      "50000/50000 [==============================] - 5s 91us/step - loss: 0.5497 - acc: 0.8395 - val_loss: 1.6375 - val_acc: 0.4927\n",
      "Epoch 48/50\n",
      "50000/50000 [==============================] - 5s 91us/step - loss: 0.5320 - acc: 0.8472 - val_loss: 1.6399 - val_acc: 0.4910\n",
      "Epoch 49/50\n",
      "50000/50000 [==============================] - 5s 91us/step - loss: 0.5160 - acc: 0.8535 - val_loss: 1.6624 - val_acc: 0.4939\n"
     ]
    },
    {
     "name": "stdout",
     "output_type": "stream",
     "text": [
      "Epoch 50/50\n",
      "50000/50000 [==============================] - 5s 91us/step - loss: 0.4998 - acc: 0.8587 - val_loss: 1.7005 - val_acc: 0.4894\n"
     ]
    }
   ],
   "source": [
    "\"\"\"Code Here\n",
    "設定 callbacks: Earlystop\n",
    "\"\"\"\n",
    "from keras.callbacks import EarlyStopping\n",
    "\n",
    "earlystop = EarlyStopping(monitor=\"val_acc\", \n",
    "                          patience=25, \n",
    "                          verbose=1\n",
    "                          )\n",
    "results = {}\n",
    "\"\"\"Code Here\n",
    "撰寫你的訓練流程並將結果用 dictionary 紀錄\n",
    "\"\"\"\n",
    "model = build_mlp(input_shape=x_train.shape[1:])\n",
    "model.summary()\n",
    "optimizer = keras.optimizers.SGD(lr=LEARNING_RATE, nesterov=True, momentum=MOMENTUM)\n",
    "model.compile(loss=\"categorical_crossentropy\", metrics=[\"accuracy\"], optimizer=optimizer)\n",
    "\n",
    "model.fit(x_train, y_train, \n",
    "          epochs=EPOCHS, \n",
    "          batch_size=BATCH_SIZE, \n",
    "          validation_data=(x_test, y_test), \n",
    "          shuffle=True,\n",
    "          callbacks=[earlystop]\n",
    "         )\n",
    "\n",
    "# Collect results\n",
    "train_loss = model.history.history[\"loss\"]\n",
    "valid_loss = model.history.history[\"val_loss\"]\n",
    "train_acc = model.history.history[\"acc\"]\n",
    "valid_acc = model.history.history[\"val_acc\"]"
   ]
  },
  {
   "cell_type": "code",
   "execution_count": 13,
   "metadata": {},
   "outputs": [
    {
     "data": {
      "image/png": "[encoded data removed]",
      "text/plain": [
       "<Figure size 432x288 with 1 Axes>"
      ]
     },
     "metadata": {
      "needs_background": "light"
     },
     "output_type": "display_data"
    },
    {
     "data": {
      "image/png": "[encoded data removed]",
      "text/plain": [
       "<Figure size 432x288 with 1 Axes>"
      ]
     },
     "metadata": {
      "needs_background": "light"
     },
     "output_type": "display_data"
    }
   ],
   "source": [
    "import matplotlib.pyplot as plt\n",
    "%matplotlib inline\n",
    "\"\"\"Code Here\n",
    "將結果繪出\n",
    "\"\"\"\n",
    "import matplotlib.pyplot as plt\n",
    "\n",
    "%matplotlib inline\n",
    "\n",
    "plt.plot(range(len(train_loss)), train_loss, label=\"train loss\")\n",
    "plt.plot(range(len(valid_loss)), valid_loss, label=\"valid loss\")\n",
    "plt.legend()\n",
    "plt.title(\"Loss\")\n",
    "plt.show()\n",
    "\n",
    "plt.plot(range(len(train_acc)), train_acc, label=\"train accuracy\")\n",
    "plt.plot(range(len(valid_acc)), valid_acc, label=\"valid accuracy\")\n",
    "plt.legend()\n",
    "plt.title(\"Accuracy\")\n",
    "plt.show()"
   ]
  }
 ],
 "metadata": {
  "kernelspec": {
   "display_name": "Python 3",
   "language": "python",
   "name": "python3"
  },
  "language_info": {
   "codemirror_mode": {
    "name": "ipython",
    "version": 3
   },
   "file_extension": ".py",
   "mimetype": "text/x-python",
   "name": "python",
   "nbconvert_exporter": "python",
   "pygments_lexer": "ipython3",
   "version": "3.7.1"
  }
 },
 "nbformat": 4,
 "nbformat_minor": 2
}
